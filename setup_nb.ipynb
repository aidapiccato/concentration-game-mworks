{
 "cells": [
  {
   "cell_type": "code",
   "execution_count": 273,
   "metadata": {},
   "outputs": [
    {
     "name": "stdout",
     "output_type": "stream",
     "text": [
      "Requirement already satisfied: Pillow in /Users/apiccato/PycharmProjects/concentration/env/lib/python3.7/site-packages (7.0.0)\n"
     ]
    }
   ],
   "source": [
    "!pip install Pillow"
   ]
  },
  {
   "cell_type": "code",
   "execution_count": 335,
   "metadata": {},
   "outputs": [],
   "source": [
    "import numpy as np\n",
    "import pandas as pd\n",
    "import pickle as pkl\n",
    "from PIL import Image\n",
    "import re\n",
    "import glob\n",
    "import os\n",
    "import shutil \n",
    "import matplotlib.pyplot as plt"
   ]
  },
  {
   "cell_type": "code",
   "execution_count": 302,
   "metadata": {},
   "outputs": [],
   "source": [
    "VERSION = 1\n",
    "n_sessions = 5\n",
    "n_images_per_session = 400\n",
    "username = 'apiccato'\n",
    "# username = 'aidapiccato'\n",
    "target_images_dirpath = '/Users/%s/PycharmProjects/concentration/concentration-game-mworks/images/v%s/' % (username, str(VERSION))"
   ]
  },
  {
   "cell_type": "code",
   "execution_count": 303,
   "metadata": {},
   "outputs": [
    {
     "name": "stdout",
     "output_type": "stream",
     "text": [
      "['/Users/apiccato/lamem/splits/train_4.txt', '/Users/apiccato/lamem/splits/train_5.txt', '/Users/apiccato/lamem/splits/train_1.txt', '/Users/apiccato/lamem/splits/train_2.txt', '/Users/apiccato/lamem/splits/train_3.txt']\n"
     ]
    }
   ],
   "source": [
    "source_dir = '/Users/%s/lamem/images/' % username\n",
    "train_filenames = glob.glob('/Users/%s/lamem/splits/train_*' % username) \n",
    "print(train_filenames)"
   ]
  },
  {
   "cell_type": "markdown",
   "metadata": {},
   "source": [
    "Aggregating memorability score across training splits"
   ]
  },
  {
   "cell_type": "code",
   "execution_count": 304,
   "metadata": {},
   "outputs": [],
   "source": [
    "fn = train_filenames[2]\n",
    "a = np.asarray([[x.split(' ')[0], np.float(x.split(' ')[1][:-1])] for x in open(fn).readlines() for fn in train_filenames])\n",
    "df = pd.DataFrame(dict(zip(['image_name', 'mem_score'], a.transpose())))\n",
    "df['mem_score'] = df['mem_score'].apply(np.float)\n",
    "df = df.groupby('image_name').agg(np.mean)"
   ]
  },
  {
   "cell_type": "markdown",
   "metadata": {},
   "source": [
    "Selecting images whose memorability scores falls within a certain range"
   ]
  },
  {
   "cell_type": "code",
   "execution_count": 305,
   "metadata": {},
   "outputs": [],
   "source": [
    "def create_version_dir(version, low_mem, hi_mem):\n",
    "    valid = df[df.mem_score.between(low_mem, hi_mem)]\n",
    "    valid.reset_index(inplace=True)\n",
    "\n",
    "    image_names = valid['image_name'].values\n",
    "    np.random.seed(version)\n",
    "    np.random.shuffle(image_names)\n",
    "    image_names = image_names[:((n_sessions + 1) * n_images_per_session)]\n",
    "    version_dir = '/Users/%s/PycharmProjects/concentration/concentration-game-mworks/images/v%d/all_images/' % (username, version)\n",
    "    try:\n",
    "        os.mkdir(version_dir)\n",
    "    except:\n",
    "        shutil.rmtree(version_dir)\n",
    "        os.mkdir(version_dir)\n",
    "    valid_image_names = []\n",
    "    for image_fn in image_names:\n",
    "        try:\n",
    "            shutil.copy(source_dir + image_fn, version_dir)\n",
    "            valid_image_names.append(image_fn)\n",
    "        except:\n",
    "            pass\n",
    "    valid_image_names = np.asarray(valid_image_names)\n",
    "    return valid_image_names"
   ]
  },
  {
   "cell_type": "code",
   "execution_count": 306,
   "metadata": {},
   "outputs": [
    {
     "name": "stdout",
     "output_type": "stream",
     "text": [
      "2396\n"
     ]
    }
   ],
   "source": [
    "low_mem, hi_mem = 0.7, 0.74\n",
    "valid_image_names = create_version_dir(VERSION, low_mem, hi_mem)\n",
    "print(len(valid_image_names))"
   ]
  },
  {
   "cell_type": "markdown",
   "metadata": {},
   "source": [
    "Creating subdirectories for each session "
   ]
  },
  {
   "cell_type": "code",
   "execution_count": 307,
   "metadata": {},
   "outputs": [],
   "source": [
    "def create_session_dir(subject_id, sess_index, image_names, n_sessions=5):\n",
    "    seed = hash(subject_id) % (2**32 - 1)\n",
    "    np.random.seed(seed)\n",
    "    np.random.shuffle(image_names)\n",
    "    split_image_names = np.split(image_names[0:len(image_names) - len(image_names)%n_sessions], n_sessions)\n",
    "    desired_size = 368\n",
    "    target_dir = '/Users/%s/PycharmProjects/concentration/concentration-game-mworks/curr_images/' % username\n",
    "    try:\n",
    "        os.mkdir(target_dir)\n",
    "    except:\n",
    "        shutil.rmtree(target_dir)\n",
    "        os.mkdir(target_dir)\n",
    "    sess_image_filenames = split_image_names[sess_index][:n_images_per_session]\n",
    "    print(len(sess_image_filenames))\n",
    "    for image_fn in sess_image_filenames:\n",
    "        image = Image.open(version_dir + image_fn)\n",
    "        old_size = image.size\n",
    "        ratio = float(desired_size)/max(old_size)\n",
    "        new_size = tuple([int(x*ratio) for x in old_size])\n",
    "        image = image.resize(new_size, Image.ANTIALIAS)\n",
    "        new_image = Image.new(\"RGB\", (desired_size, desired_size))\n",
    "        new_image.paste(image, ((desired_size-new_size[0])//2,\n",
    "                        (desired_size-new_size[1])//2))\n",
    "        new_image.save(target_dir + image_fn)\n"
   ]
  },
  {
   "cell_type": "markdown",
   "metadata": {},
   "source": [
    "****"
   ]
  },
  {
   "cell_type": "code",
   "execution_count": 312,
   "metadata": {},
   "outputs": [],
   "source": [
    "\n",
    "subject_id = 877\n",
    "sess_index = 0"
   ]
  },
  {
   "cell_type": "code",
   "execution_count": 309,
   "metadata": {},
   "outputs": [
    {
     "name": "stdout",
     "output_type": "stream",
     "text": [
      "400\n"
     ]
    }
   ],
   "source": [
    "create_session_dir(877, 0, valid_image_names)"
   ]
  },
  {
   "cell_type": "code",
   "execution_count": 311,
   "metadata": {},
   "outputs": [
    {
     "data": {
      "text/plain": [
       "338"
      ]
     },
     "execution_count": 311,
     "metadata": {},
     "output_type": "execute_result"
    }
   ],
   "source": [
    "target_dir = '/Users/apiccato/PycharmProjects/concentration/concentration-game-mworks/curr_images/*'\n",
    "len(glob.glob(target_dir))"
   ]
  },
  {
   "cell_type": "code",
   "execution_count": 326,
   "metadata": {},
   "outputs": [],
   "source": [
    "subject_session_image_names = glob.glob(target_dir)\n",
    "subject_session_image_names = [re.search('curr_images/(.+?).jpg', dirpath).group(1) + '.jpg' for dirpath in subject_session_image_names]"
   ]
  },
  {
   "cell_type": "code",
   "execution_count": 340,
   "metadata": {},
   "outputs": [],
   "source": [
    "def create_session_entry(version, subject_id, sess_index, subject_session_image_names):\n",
    "    entry = {'subject_id': subject_id, 'sess_index': sess_index, 'image_fns': subject_session_image_names}\n",
    "    version_fn = '/Users/%s/PycharmProjects/concentration/concentration-game-mworks/images/v%d/sessions.pkl' % (username, version)\n",
    "    with open(version_fn, 'rb') as f:\n",
    "        df = pkl.load(f)\n",
    "    df = df.append(entry, ignore_index=True)\n",
    "    with open(version_fn, 'wb') as f:\n",
    "        pkl.dump(df, f)"
   ]
  },
  {
   "cell_type": "code",
   "execution_count": 341,
   "metadata": {},
   "outputs": [],
   "source": [
    "create_session_entry(VERSION, subject_id, sess_index, subject_session_image_names)"
   ]
  },
  {
   "cell_type": "code",
   "execution_count": null,
   "metadata": {},
   "outputs": [],
   "source": []
  }
 ],
 "metadata": {
  "kernelspec": {
   "display_name": "concentration",
   "language": "python",
   "name": "concentration"
  },
  "language_info": {
   "codemirror_mode": {
    "name": "ipython",
    "version": 3
   },
   "file_extension": ".py",
   "mimetype": "text/x-python",
   "name": "python",
   "nbconvert_exporter": "python",
   "pygments_lexer": "ipython3",
   "version": "3.7.4"
  }
 },
 "nbformat": 4,
 "nbformat_minor": 4
}
