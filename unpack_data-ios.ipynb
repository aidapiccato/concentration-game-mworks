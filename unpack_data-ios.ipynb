{
 "cells": [
  {
   "cell_type": "code",
   "execution_count": 53,
   "metadata": {
    "collapsed": true,
    "pycharm": {
     "is_executing": false
    }
   },
   "outputs": [],
   "source": [
    "import numpy as np\n",
    "import sys\n",
    "sys.path.insert(0, '/Library/Application Support/MWorks/Scripting/Python')\n",
    "from mworks.data import MWKFile\n",
    "import matplotlib.pyplot as plt\n",
    "import matplotlib.style as style \n",
    "import pandas as pd\n",
    "\n",
    "style.use('seaborn-poster') \n",
    "style.use('seaborn-white')"
   ]
  },
  {
   "cell_type": "code",
   "execution_count": 54,
   "metadata": {
    "collapsed": false,
    "pycharm": {
     "is_executing": false,
     "name": "#%%\n"
    }
   },
   "outputs": [],
   "source": [
    "username = 'aidapiccato'\n",
    "dir_path = '/Users/%s/PyCharmProjects/concentration/concentration-game-mworks' % username\n",
    "subject_id = 0\n"
   ]
  },
  {
   "cell_type": "code",
   "execution_count": 55,
   "metadata": {
    "collapsed": false,
    "pycharm": {
     "is_executing": false,
     "name": "#%%\n"
    }
   },
   "outputs": [],
   "source": [
    "## sync times \n",
    "ITI = 1\n",
    "TRIAL_INIT = 2\n",
    "FLIP_CARD_A = 3\n",
    "FLIP_CARD_B = 4\n",
    "FEEDBACK = 5\n",
    "TRIAL_END = 6"
   ]
  },
  {
   "cell_type": "code",
   "execution_count": 103,
   "metadata": {
    "pycharm": {
     "is_executing": false
    }
   },
   "outputs": [],
   "source": [
    "class Unpack():    \n",
    "    def __init__(self, fn):\n",
    "        fpath = '/Users/%s/Documents/MWorks/Data' % username\n",
    "        self.fn = fn        \n",
    "        self.f =  MWKFile('%s/%s' % (fpath, fn))\n",
    "        self.f.open()\n",
    "        self.codec = self.f.codec\n",
    "        self.codenames = ['card_b', 'card_a',  'grid', 'grid_dims', 'inv_grid', 'n_pairs', 'block_index'] \n",
    "        self.start_sync_t, self.end_sync_t = self.get_sync_times()\n",
    "        self.n_trials = len(self.start_sync_t)\n",
    "        print('Collecting %d trials of data' % self.n_trials)\n",
    "        self.avg_trial_dur = (self.end_sync_t - self.start_sync_t) / 10**6\n",
    "        print('Average trial duration: %f seconds' % np.mean(self.avg_trial_dur))        \n",
    "        self.scalar = self.get_scalar_data()\n",
    "        # self.analog = self.get_analog_data()\n",
    "\n",
    "                \n",
    "    def get_scalar_data(self):\n",
    "        data_scalar = {'dur': [], 'card_a_img': [], 'card_b_img': [], 'card_c': [], 'dist_a_b': [], 'dist_b_c': []}\n",
    "        \n",
    "        for c in self.codenames:\n",
    "            data_scalar[c] = []\n",
    "\n",
    "        for trial in range(self.n_trials):            \n",
    "            start_t, end_t = np.long(self.start_sync_t[trial]), np.long(self.end_sync_t[trial])\n",
    "            trial_events = self.f.get_events(codes = self.codenames, time_range=[start_t, end_t])\n",
    "            trial_events = np.asarray([[e.code, e.time, e.data] for e in trial_events])         \n",
    "            # trial duration        \n",
    "            data_scalar['dur'].append((end_t - start_t)/10**6)        \n",
    "            for ci, c in enumerate(self.codenames): # currently this is only selecting card_b                \n",
    "                code = self.f.reverse_codec[c]\n",
    "                code_events = trial_events[np.where(trial_events[:, 0] == code)[0], 2]\n",
    "                data_scalar[c].append(code_events[0])                    \n",
    "            card_a = data_scalar['card_a'][trial]\n",
    "            card_b = data_scalar['card_b'][trial]\n",
    "            grid = np.asarray(data_scalar['grid'][trial])\n",
    "            match = np.where(grid == grid[card_a])[0]            \n",
    "            card_c = match[match != card_a]    \n",
    "            \n",
    "            data_scalar['card_c'].append(card_c)\n",
    "            \n",
    "            data_scalar['card_a_img'].append(data_scalar['grid'][trial][card_a])\n",
    "            data_scalar['card_b_img'].append(data_scalar['grid'][trial][card_b])\n",
    "            \n",
    "            # distance between locations of card a and b\n",
    "            data_scalar['dist_a_b'].append(self.get_dist(card_a, card_b, data_scalar['grid_dims'][trial]))\n",
    "            \n",
    "            # distance between locations of card b and correct card\n",
    "            data_scalar['dist_b_c'].append(self.get_dist(card_b, card_c, data_scalar['grid_dims'][trial]))\n",
    "            \n",
    "        data_scalar['rt'] = self.get_reaction_times() \n",
    "        \n",
    "        data_scalar = pd.DataFrame(data_scalar)\n",
    "        return data_scalar\n",
    "    \n",
    "    def get_analog_data(self):\n",
    "        data_analog = {'location': [], 'img': [], 'trial': [], 'time': [], 'selected': []} \n",
    "        \n",
    "        for t in range(self.n_trials):\n",
    "            start_t, end_t = np.long(self.start_sync_t[t]), np.long(self.end_sync_t[t])\n",
    "            trial_events = self.f.get_events(codes=['sync'], time_range=[start_t, end_t])\n",
    "            trial_events = np.asarray([[e.code, e.time, e.data] for e in trial_events])\n",
    "            card_a_t = trial_events[np.where(trial_events[:, 2] == FLIP_CARD_A)[0], 1]\n",
    "            card_b_t = trial_events[np.where(trial_events[:, 2] == FLIP_CARD_B)[0], 1]\n",
    "            \n",
    "            data_analog['location'].append(self.scalar['card_a'])\n",
    "            data_analog['img'].append(self.scalar['card_a_img'])\n",
    "            data_analog['trial'].append(t)\n",
    "            data_analog['time'].append(card_a_t)\n",
    "            data_analog['selected'].append(False)\n",
    "            \n",
    "            \n",
    "            data_analog['location'].append(self.scalar['card_b'][t])\n",
    "            data_analog['img'].append(self.scalar['card_b_img'])\n",
    "            data_analog['trial'].append(t)\n",
    "            data_analog['time'].append(card_b_t)\n",
    "            data_analog['selected'].append(True)\n",
    "            \n",
    "        data_analog = pd.DataFrame(data_analog)\n",
    "            \n",
    "                                               \n",
    "        return data_analog\n",
    "    \n",
    "    def get_sync_times(self): \n",
    "        sync_events = self.f.get_events(codes=['sync'])\n",
    "        sync_events = np.asarray([[e.data, e.time] for e in sync_events])        \n",
    "        end_sync_t = sync_events[np.where(sync_events[:, 0] == TRIAL_END)[0], 1]\n",
    "        start_sync_t = sync_events[np.where(sync_events[:, 0] == TRIAL_INIT)[0], 1]\n",
    "        start_sync_t = start_sync_t[:len(end_sync_t)]\n",
    "        return start_sync_t, end_sync_t\n",
    "    \n",
    "    def get_dist(self, card_a, card_b, grid_dims): \n",
    "        card_a_loc = np.asarray([np.floor(card_a/grid_dims[1]), card_a%grid_dims[1]])\n",
    "        card_b_loc = np.asarray([np.floor(card_b/grid_dims[1]), card_b%grid_dims[1]])\n",
    "        return np.linalg.norm(card_a_loc - card_b_loc)\n",
    "    \n",
    "    def get_reaction_times(self):\n",
    "        rts = []\n",
    "        for trial in range(self.n_trials):\n",
    "            start_t, end_t = np.long(self.start_sync_t[trial]), np.long(self.end_sync_t[trial])\n",
    "            sync = self.f.get_events(codes = ['sync'], time_range=[start_t, end_t])\n",
    "            sync = np.asarray([[e.data, e.time] for e in sync])                \n",
    "            flip_card_a = sync[np.where(sync[:, 0] == FLIP_CARD_A)[0], 1]\n",
    "            flip_card_b = sync[np.where(sync[:, 0] == FLIP_CARD_B)[0], 1]                    \n",
    "            if len(flip_card_b) == 0:\n",
    "                flip_card_b = [flip_card_a]\n",
    "            rt = np.long(flip_card_b[0]) - np.long(flip_card_a[0])\n",
    "            \n",
    "            rts.append(rt/10**6)\n",
    "        return rts"
   ]
  },
  {
   "cell_type": "code",
   "execution_count": 104,
   "metadata": {
    "collapsed": false,
    "pycharm": {
     "is_executing": false,
     "name": "#%%\n"
    }
   },
   "outputs": [
    {
     "name": "stdout",
     "text": [
      "Collecting 96 trials of data\nAverage trial duration: 1.660950 seconds\n"
     ],
     "output_type": "stream"
    }
   ],
   "source": [
    "fn = \"aidapiccato-concentration-ios-20200122-150945.mwk2\"\n",
    "unpack = Unpack(fn)"
   ]
  },
  {
   "cell_type": "code",
   "execution_count": 82,
   "outputs": [
    {
     "data": {
      "text/plain": "<Figure size 500x500 with 1 Axes>",
      "image/png": "[encoded data removed]"
     },
     "metadata": {},
     "output_type": "display_data"
    }
   ],
   "source": [
    "# duration of block averaged across grid sizes\n",
    "block_avg_dur = unpack.scalar.groupby('n_pairs')['dur'].sum()/unpack.scalar.groupby('n_pairs')['block_index'].nunique()\n",
    "f, ax = plt.subplots(1, 1, figsize=(5, 5), dpi=100)\n",
    "ax.bar(block_avg_dur.keys(), block_avg_dur)\n",
    "ax.set_xticks(block_avg_dur.keys())\n",
    "ax.set_xlabel('number of pairs')\n",
    "ax.set_ylabel('average duration (seconds)')\n",
    "ax.set_title('avg. block duration across grid sizes')\n",
    "prettify(ax)\n",
    "plt.show()\n",
    " \n"
   ],
   "metadata": {
    "collapsed": false,
    "pycharm": {
     "name": "#%%\n",
     "is_executing": false
    }
   }
  },
  {
   "cell_type": "code",
   "execution_count": 43,
   "metadata": {
    "pycharm": {
     "is_executing": false
    }
   },
   "outputs": [],
   "source": [
    "def prettify(ax):\n",
    "    ax.spines['top'].set_visible(False)\n",
    "    ax.spines['right'].set_visible(False)\n",
    "    ax.title.set_style('italic')\n",
    "    ax.title.set_size(15)"
   ]
  },
  {
   "cell_type": "code",
   "execution_count": null,
   "outputs": [],
   "source": [
    "\n"
   ],
   "metadata": {
    "collapsed": false,
    "pycharm": {
     "name": "#%%\n"
    }
   }
  }
 ],
 "metadata": {
  "kernelspec": {
   "name": "py37",
   "language": "python",
   "display_name": "py37"
  },
  "language_info": {
   "codemirror_mode": {
    "name": "ipython",
    "version": 3
   },
   "file_extension": ".py",
   "mimetype": "text/x-python",
   "name": "python",
   "nbconvert_exporter": "python",
   "pygments_lexer": "ipython3",
   "version": "3.7.4"
  },
  "pycharm": {
   "stem_cell": {
    "cell_type": "raw",
    "source": [],
    "metadata": {
     "collapsed": false
    }
   }
  }
 },
 "nbformat": 4,
 "nbformat_minor": 2
}