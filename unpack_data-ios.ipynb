{
 "cells": [
  {
   "cell_type": "code",
   "execution_count": 1,
   "metadata": {
    "collapsed": true,
    "pycharm": {
     "is_executing": false
    }
   },
   "outputs": [],
   "source": [
    "import numpy as np\n",
    "import sys\n",
    "sys.path.insert(0, '/Library/Application Support/MWorks/Scripting/Python')\n",
    "from mworks.data import MWKFile\n",
    "import matplotlib.pyplot as plt\n",
    "import matplotlib.style as style \n",
    "import pandas as pd\n",
    "\n",
    "style.use('seaborn-poster') \n",
    "style.use('seaborn-white')"
   ]
  },
  {
   "cell_type": "code",
   "execution_count": 2,
   "metadata": {
    "collapsed": false,
    "pycharm": {
     "is_executing": false,
     "name": "#%%\n"
    }
   },
   "outputs": [],
   "source": [
    "username = 'aidapiccato'\n",
    "dir_path = '/Users/%s/PyCharmProjects/concentration/concentration-game-mworks' % username\n",
    "subject_id = 0\n"
   ]
  },
  {
   "cell_type": "code",
   "execution_count": 3,
   "metadata": {
    "collapsed": false,
    "pycharm": {
     "is_executing": false,
     "name": "#%%\n"
    }
   },
   "outputs": [],
   "source": [
    "## sync times \n",
    "ITI = 1\n",
    "TRIAL_INIT = 2\n",
    "FLIP_CARD_A = 3\n",
    "FLIP_CARD_B = 4\n",
    "FEEDBACK = 5\n",
    "TRIAL_END = 6"
   ]
  },
  {
   "cell_type": "code",
   "execution_count": 8,
   "metadata": {
    "pycharm": {
     "is_executing": false
    }
   },
   "outputs": [],
   "source": [
    "class Unpack():    \n",
    "    def __init__(self, fn):\n",
    "        fpath = '/Users/%s/Documents/MWorks/Data' % username\n",
    "        self.fn = fn        \n",
    "        self.f =  MWKFile('%s/%s' % (fpath, fn))\n",
    "        self.f.open()\n",
    "        self.codec = self.f.codec\n",
    "        self.codenames = ['card_b', 'card_a',  'grid', 'grid_dims', 'inv_grid', 'n_pairs', 'block_index'] ## 'ignore'] \n",
    "        self.start_sync_t, self.end_sync_t = self.get_sync_times()\n",
    "        self.n_trials = len(self.start_sync_t)\n",
    "        print('Collecting %d trials of data' % self.n_trials)\n",
    "        self.avg_trial_dur = (self.end_sync_t - self.start_sync_t) / 10**6\n",
    "        print('Average trial duration: %f seconds' % np.mean(self.avg_trial_dur))        \n",
    "        self.scalar = self.get_scalar_data()\n",
    "        self.analog = self.get_analog_data()\n",
    "\n",
    "                \n",
    "    def get_scalar_data(self):\n",
    "        data_scalar = {'dur': [], 'card_a_img': [], 'card_b_img': [], 'card_c': [], 'dist_a_b': [], 'dist_b_c': [], \n",
    "                       'success': [], 'failure': []}\n",
    "        \n",
    "        for c in self.codenames:\n",
    "            data_scalar[c] = []\n",
    "\n",
    "        for trial in range(self.n_trials):            \n",
    "            start_t, end_t = np.long(self.start_sync_t[trial]), np.long(self.end_sync_t[trial])\n",
    "            trial_events = self.f.get_events(codes = self.codenames, time_range=[start_t, end_t])\n",
    "            trial_events = np.asarray([[e.code, e.time, e.data] for e in trial_events])         \n",
    "            # trial duration        \n",
    "            data_scalar['dur'].append((end_t - start_t)/10**6)        \n",
    "            for ci, c in enumerate(self.codenames): # currently this is only selecting card_b                \n",
    "                code = self.f.reverse_codec[c]\n",
    "                code_events = trial_events[np.where(trial_events[:, 0] == code)[0], 2]\n",
    "                data_scalar[c].append(code_events[0])                    \n",
    "            card_a = data_scalar['card_a'][trial]\n",
    "            card_b = data_scalar['card_b'][trial]\n",
    "            grid = np.asarray(data_scalar['grid'][trial])\n",
    "            match = np.where(grid == grid[card_a])[0]            \n",
    "            card_c = match[match != card_a]    \n",
    "            \n",
    "            # TODO: remove this when success things are read in from mworks\n",
    "            data_scalar['success'].append(card_c == card_b)\n",
    "            data_scalar['failure'].append(card_c != card_b)\n",
    "            \n",
    "            data_scalar['card_c'].append(card_c)\n",
    "            \n",
    "            data_scalar['card_a_img'].append(data_scalar['grid'][trial][card_a])\n",
    "            data_scalar['card_b_img'].append(data_scalar['grid'][trial][card_b])\n",
    "            \n",
    "            # distance between locations of card a and b\n",
    "            data_scalar['dist_a_b'].append(self.get_dist(card_a, card_b, data_scalar['grid_dims'][trial]))\n",
    "            \n",
    "            # distance between locations of card b and correct card\n",
    "            data_scalar['dist_b_c'].append(self.get_dist(card_b, card_c, data_scalar['grid_dims'][trial]))\n",
    "            \n",
    "        data_scalar['rt'] = self.get_reaction_times() \n",
    "        \n",
    "        data_scalar = pd.DataFrame(data_scalar)\n",
    "        return data_scalar\n",
    "    \n",
    "    def get_analog_data(self):\n",
    "        data_analog = {'card': [], 'img': [], 'trial': [], 'time': [], 'is_card_a': [], 'is_card_b': [], 'block_index': []} \n",
    "        \n",
    "        for t in range(self.n_trials):\n",
    "            start_t, end_t = np.long(self.start_sync_t[t]), np.long(self.end_sync_t[t])\n",
    "            trial_events = self.f.get_events(codes=['sync'], time_range=[start_t, end_t])\n",
    "            trial_events = np.asarray([[e.code, e.time, e.data] for e in trial_events])\n",
    "            card_a_t = trial_events[np.where(trial_events[:, 2] == FLIP_CARD_A)[0], 1]\n",
    "            card_b_t = trial_events[np.where(trial_events[:, 2] == FLIP_CARD_B)[0], 1]\n",
    "            \n",
    "            data_analog['card'].append(self.scalar['card_a'][t])\n",
    "            data_analog['img'].append(self.scalar['card_a_img'][t])\n",
    "            data_analog['trial'].append(t)\n",
    "            data_analog['time'].append(card_a_t[0])\n",
    "            data_analog['is_card_a'].append(True)\n",
    "            data_analog['is_card_b'].append(False)\n",
    "            data_analog['block_index'].append(self.scalar['block_index'][t])\n",
    "            \n",
    "            if len(card_b_t) > 0:\n",
    "                data_analog['card'].append(self.scalar['card_b'][t])\n",
    "                data_analog['img'].append(self.scalar['card_b_img'][t])\n",
    "                data_analog['trial'].append(t)\n",
    "                data_analog['time'].append(card_b_t[0])            \n",
    "                data_analog['is_card_a'].append(False)\n",
    "                data_analog['is_card_b'].append(True)\n",
    "                data_analog['block_index'].append(self.scalar['block_index'][t])\n",
    "            \n",
    "        data_analog = pd.DataFrame(data_analog)    \n",
    "                                               \n",
    "        return data_analog\n",
    "    \n",
    "    def get_sync_times(self): \n",
    "        sync_events = self.f.get_events(codes=['sync'])\n",
    "        sync_events = np.asarray([[e.data, e.time] for e in sync_events])        \n",
    "        end_sync_t = sync_events[np.where(sync_events[:, 0] == TRIAL_END)[0], 1]\n",
    "        start_sync_t = sync_events[np.where(sync_events[:, 0] == TRIAL_INIT)[0], 1]\n",
    "        start_sync_t = start_sync_t[:len(end_sync_t)]\n",
    "        return start_sync_t, end_sync_t\n",
    "    \n",
    "    def get_dist(self, card_a, card_b, grid_dims): \n",
    "        card_a_loc = np.asarray([np.floor(card_a/grid_dims[1]), card_a%grid_dims[1]])\n",
    "        card_b_loc = np.asarray([np.floor(card_b/grid_dims[1]), card_b%grid_dims[1]])\n",
    "        return np.linalg.norm(card_a_loc - card_b_loc)\n",
    "    \n",
    "    def get_reaction_times(self):\n",
    "        rts = []\n",
    "        for trial in range(self.n_trials):\n",
    "            start_t, end_t = np.long(self.start_sync_t[trial]), np.long(self.end_sync_t[trial])\n",
    "            sync = self.f.get_events(codes = ['sync'], time_range=[start_t, end_t])\n",
    "            sync = np.asarray([[e.data, e.time] for e in sync])                \n",
    "            flip_card_a = sync[np.where(sync[:, 0] == FLIP_CARD_A)[0], 1]\n",
    "            flip_card_b = sync[np.where(sync[:, 0] == FLIP_CARD_B)[0], 1]                    \n",
    "            if len(flip_card_b) == 0:\n",
    "                flip_card_b = [flip_card_a]\n",
    "            rt = np.long(flip_card_b[0]) - np.long(flip_card_a[0])\n",
    "            \n",
    "            rts.append(rt/10**6)\n",
    "        return rts"
   ]
  },
  {
   "cell_type": "code",
   "execution_count": 12,
   "metadata": {
    "collapsed": false,
    "pycharm": {
     "is_executing": false,
     "name": "#%%\n"
    }
   },
   "outputs": [
    {
     "name": "stdout",
     "text": [
      "Collecting 96 trials of data\nAverage trial duration: 1.660950 seconds\n"
     ],
     "output_type": "stream"
    }
   ],
   "source": [
    "fn = \"aidapiccato-concentration-ios-20200122-150945.mwk2\"\n",
    "unpack = Unpack(fn)"
   ]
  },
  {
   "cell_type": "code",
   "execution_count": 13,
   "outputs": [
    {
     "data": {
      "text/plain": "     card  img  trial       time  is_card_a  is_card_b  block_index\n0       2    1      0   23373133       True      False            0\n1       1    1      0   26316258      False       True            0\n2       2    1      1   27817301       True      False            0\n3       1    1      1   28340074      False       True            0\n4       0    0      2   29840699       True      False            0\n..    ...  ...    ...        ...        ...        ...          ...\n186     0    0     93  256493633      False       True            3\n187     1    1     94  257994336       True      False            3\n188     2    1     94  258506303      False       True            3\n189     0    0     95  259507104       True      False            3\n190     3    0     95  259994434      False       True            3\n\n[191 rows x 7 columns]",
      "text/html": "<div>\n<style scoped>\n    .dataframe tbody tr th:only-of-type {\n        vertical-align: middle;\n    }\n\n    .dataframe tbody tr th {\n        vertical-align: top;\n    }\n\n    .dataframe thead th {\n        text-align: right;\n    }\n</style>\n<table border=\"1\" class=\"dataframe\">\n  <thead>\n    <tr style=\"text-align: right;\">\n      <th></th>\n      <th>card</th>\n      <th>img</th>\n      <th>trial</th>\n      <th>time</th>\n      <th>is_card_a</th>\n      <th>is_card_b</th>\n      <th>block_index</th>\n    </tr>\n  </thead>\n  <tbody>\n    <tr>\n      <th>0</th>\n      <td>2</td>\n      <td>1</td>\n      <td>0</td>\n      <td>23373133</td>\n      <td>True</td>\n      <td>False</td>\n      <td>0</td>\n    </tr>\n    <tr>\n      <th>1</th>\n      <td>1</td>\n      <td>1</td>\n      <td>0</td>\n      <td>26316258</td>\n      <td>False</td>\n      <td>True</td>\n      <td>0</td>\n    </tr>\n    <tr>\n      <th>2</th>\n      <td>2</td>\n      <td>1</td>\n      <td>1</td>\n      <td>27817301</td>\n      <td>True</td>\n      <td>False</td>\n      <td>0</td>\n    </tr>\n    <tr>\n      <th>3</th>\n      <td>1</td>\n      <td>1</td>\n      <td>1</td>\n      <td>28340074</td>\n      <td>False</td>\n      <td>True</td>\n      <td>0</td>\n    </tr>\n    <tr>\n      <th>4</th>\n      <td>0</td>\n      <td>0</td>\n      <td>2</td>\n      <td>29840699</td>\n      <td>True</td>\n      <td>False</td>\n      <td>0</td>\n    </tr>\n    <tr>\n      <th>...</th>\n      <td>...</td>\n      <td>...</td>\n      <td>...</td>\n      <td>...</td>\n      <td>...</td>\n      <td>...</td>\n      <td>...</td>\n    </tr>\n    <tr>\n      <th>186</th>\n      <td>0</td>\n      <td>0</td>\n      <td>93</td>\n      <td>256493633</td>\n      <td>False</td>\n      <td>True</td>\n      <td>3</td>\n    </tr>\n    <tr>\n      <th>187</th>\n      <td>1</td>\n      <td>1</td>\n      <td>94</td>\n      <td>257994336</td>\n      <td>True</td>\n      <td>False</td>\n      <td>3</td>\n    </tr>\n    <tr>\n      <th>188</th>\n      <td>2</td>\n      <td>1</td>\n      <td>94</td>\n      <td>258506303</td>\n      <td>False</td>\n      <td>True</td>\n      <td>3</td>\n    </tr>\n    <tr>\n      <th>189</th>\n      <td>0</td>\n      <td>0</td>\n      <td>95</td>\n      <td>259507104</td>\n      <td>True</td>\n      <td>False</td>\n      <td>3</td>\n    </tr>\n    <tr>\n      <th>190</th>\n      <td>3</td>\n      <td>0</td>\n      <td>95</td>\n      <td>259994434</td>\n      <td>False</td>\n      <td>True</td>\n      <td>3</td>\n    </tr>\n  </tbody>\n</table>\n<p>191 rows × 7 columns</p>\n</div>"
     },
     "metadata": {},
     "output_type": "execute_result",
     "execution_count": 13
    }
   ],
   "source": [
    "## producing performance matrix\n",
    "\n",
    "def get_last_t_card(analog, card, trial, block_index):\n",
    "    \"\"\"    \n",
    "    :param analog: Unpack object \n",
    "    :param card: Card (location on grid)\n",
    "    :param trial: Trial before which to look for card flip\n",
    "    :param block_index: Index of block within which to look for card flipping\n",
    "    :return: Time at which card was last flipped prior to trial t\n",
    "    \"\"\"\n",
    "    return analog[analog.card.eq(card) & analog.block_index.eq(block_index) & analog.trial.lt(trial)].iloc[-1]\n",
    "\n",
    "data"
   ],
   "metadata": {
    "collapsed": false,
    "pycharm": {
     "name": "#%%\n",
     "is_executing": false
    }
   }
  },
  {
   "cell_type": "code",
   "execution_count": null,
   "outputs": [],
   "source": [
    "# duration of block averaged across grid sizes\n",
    "# block_avg_dur = unpack.scalar.groupby('n_pairs')['dur'].sum()/unpack.scalar.groupby('n_pairs')['block_index'].nunique()\n",
    "# f, ax = plt.subplots(1, 1, figsize=(5, 5), dpi=100)\n",
    "# ax.bar(block_avg_dur.keys(), block_avg_dur)\n",
    "# ax.set_xticks(block_avg_dur.keys())\n",
    "# ax.set_xlabel('number of pairs')\n",
    "# ax.set_ylabel('average duration (seconds)')\n",
    "# ax.set_title('avg. block duration across grid sizes')\n",
    "# prettify(ax)\n",
    "# plt.show()\n",
    " \n"
   ],
   "metadata": {
    "collapsed": false,
    "pycharm": {
     "name": "#%%\n"
    }
   }
  },
  {
   "cell_type": "code",
   "execution_count": 43,
   "metadata": {
    "pycharm": {
     "is_executing": false
    }
   },
   "outputs": [],
   "source": [
    "def prettify(ax):\n",
    "    ax.spines['top'].set_visible(False)\n",
    "    ax.spines['right'].set_visible(False)\n",
    "    ax.title.set_style('italic')\n",
    "    ax.title.set_size(15)"
   ]
  },
  {
   "cell_type": "code",
   "execution_count": null,
   "outputs": [],
   "source": [
    "\n"
   ],
   "metadata": {
    "collapsed": false,
    "pycharm": {
     "name": "#%%\n"
    }
   }
  }
 ],
 "metadata": {
  "kernelspec": {
   "name": "py37",
   "language": "python",
   "display_name": "py37"
  },
  "language_info": {
   "codemirror_mode": {
    "name": "ipython",
    "version": 3
   },
   "file_extension": ".py",
   "mimetype": "text/x-python",
   "name": "python",
   "nbconvert_exporter": "python",
   "pygments_lexer": "ipython3",
   "version": "3.7.4"
  },
  "pycharm": {
   "stem_cell": {
    "cell_type": "raw",
    "source": [],
    "metadata": {
     "collapsed": false
    }
   }
  }
 },
 "nbformat": 4,
 "nbformat_minor": 2
}