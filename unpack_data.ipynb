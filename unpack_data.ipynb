{
 "cells": [
  {
   "cell_type": "code",
   "execution_count": 1,
   "metadata": {
    "collapsed": true,
    "pycharm": {
     "is_executing": false
    }
   },
   "outputs": [],
   "source": [
    "import numpy as np\n",
    "import sys\n",
    "sys.path.insert(0, '/Library/Application Support/MWorks/Scripting/Python')\n",
    "from mworks.data import MWKFile\n",
    "import matplotlib.pyplot as plt\n",
    "import matplotlib.style as style \n",
    "import pandas as pd\n",
    "import pickle as pkl"
   ]
  },
  {
   "cell_type": "code",
   "execution_count": 257,
   "metadata": {
    "collapsed": false,
    "pycharm": {
     "is_executing": false,
     "name": "#%%\n"
    }
   },
   "outputs": [],
   "source": [
    "style.use('seaborn-poster') \n",
    "style.use('seaborn-white')"
   ]
  },
  {
   "cell_type": "code",
   "execution_count": 4,
   "metadata": {
    "collapsed": false,
    "pycharm": {
     "is_executing": false,
     "name": "#%%\n"
    }
   },
   "outputs": [],
   "source": [
    "# username = 'apiccato'\n",
    "username = 'aidapiccato'\n",
    "dir_path = '/Users/%s/PyCharmProjects/concentration/concentration-game-mworks' % username\n",
    "subject_id = 0\n",
    "subject_fn = '%s/meta/subject_%s.pkl' % (dir_path, subject_id)"
   ]
  },
  {
   "cell_type": "code",
   "execution_count": 5,
   "metadata": {
    "collapsed": false,
    "pycharm": {
     "is_executing": false,
     "name": "#%%\n"
    }
   },
   "outputs": [],
   "source": [
    "## sync times \n",
    "ITI = 1\n",
    "TRIAL_INIT = 2\n",
    "FLIP_CARD_A = 3\n",
    "FLIP_CARD_B = 4\n",
    "FEEDBACK = 5\n",
    "TRIAL_END = 6"
   ]
  },
  {
   "cell_type": "code",
   "execution_count": 309,
   "metadata": {},
   "outputs": [],
   "source": [
    "class Unpack():    \n",
    "    def __init__(self, fn, subject_fn):\n",
    "        fpath = '/Users/%s/Documents/MWorks/Data' % username\n",
    "        self.fn = fn\n",
    "        self.subject_fn = subject_fn\n",
    "        self.f =  MWKFile('%s/%s' % (fpath, fn))\n",
    "        self.f.open()\n",
    "        self.codec = self.f.codec\n",
    "        self.codenames = ['card_b', 'card_a', 'selection_trial_index'] ## 'success', 'ignore', 'failure']\n",
    "        self.start_sync_t, self.end_sync_t = self.get_sync_times()\n",
    "        self.n_trials = len(self.start_sync_t)\n",
    "        print('Collecting %d trials of data' % self.n_trials)\n",
    "        self.avg_trial_dur = (self.end_sync_t - self.start_sync_t) / 10**6\n",
    "        print('Average trial duration: %f seconds' % np.mean(self.avg_trial_dur))\n",
    "        self.meta = self.get_meta()\n",
    "        self.scalar = self.get_scalar_data()\n",
    "        self.analog = self.get_analog_data()\n",
    "    def get_meta(self): \n",
    "        meta_flat = {'block_index':[], 'grid': [], 'card_a': [], 'trial_index': [], 'n_pairs': [], 'grid_dims': [], 'inv_grid': [],}\n",
    "        with open(subject_fn, 'rb') as f:\n",
    "            meta = pkl.load(f)\n",
    "        for block_index, block in enumerate(meta):\n",
    "            inv_grid = block['inv_grid']\n",
    "            grid_dims = block['grid_dims']\n",
    "            n_pairs = block['n_pairs']\n",
    "            grid = block['grid']\n",
    "            for trial_index, card_a in enumerate(block['trials']):\n",
    "                meta_flat['block_index'].append(block_index)\n",
    "                meta_flat['trial_index'].append(trial_index)\n",
    "                meta_flat['n_pairs'].append(n_pairs)\n",
    "                meta_flat['grid_dims'].append(grid_dims)\n",
    "                meta_flat['inv_grid'].append(inv_grid)\n",
    "                meta_flat['grid'].append(grid)\n",
    "                meta_flat['card_a'].append(card_a)\n",
    "        return pd.DataFrame(meta_flat)\n",
    "    \n",
    "    def get_analog_data(self):\n",
    "        data_analog = {'location': [], 'img': [], 'trial': [], 'time': [], 'selected': []} \n",
    "        \n",
    "        for t in range(self.n_trials):\n",
    "            start_t, end_t = np.long(self.start_sync_t[t]), np.long(self.end_sync_t[t])\n",
    "            trial_events = self.f.get_events(codes=['sync'], time_range=[start_t, end_t])\n",
    "            trial_events = np.asarray([[e.code, e.time, e.data] for e in trial_events])\n",
    "            card_a_t = trial_events[np.where(trial_events[:, 2] == FLIP_CARD_A)[0], 1]\n",
    "            card_b_t = trial_events[np.where(trial_events[:, 2] == FLIP_CARD_B)[0], 1]\n",
    "            \n",
    "            data_analog['location'].append(self.scalar['card_a'])\n",
    "            data_analog['img'].append(self.scalar['card_a_img'])\n",
    "            data_analog['trial'].append(t)\n",
    "            data_analog['time'].append(card_a_t)\n",
    "            data_analog['selected'].append(False)\n",
    "            \n",
    "            \n",
    "            data_analog['location'].append(self.scalar['card_b'][t])\n",
    "            data_analog['img'].append(self.scalar['card_b_img'])\n",
    "            data_analog['trial'].append(t)\n",
    "            data_analog['time'].append(card_b_t)\n",
    "            data_analog['selected'].append(True)\n",
    "            \n",
    "        data_analog = pd.DataFrame(data_analog)\n",
    "            \n",
    "                                               \n",
    "        return data_analog\n",
    "\n",
    "\n",
    "            \n",
    "    def get_scalar_data(self):\n",
    "        data_scalar = {'dur': [], 'card_a_img': [], 'card_b_img': [],  'card_c': [], 'dist_a_b': [], 'dist_b_c': []}        \n",
    "        for c in self.codenames:\n",
    "            data_scalar[c] = []\n",
    "        for c in self.meta.columns:\n",
    "            if c != 'card_a':\n",
    "                data_scalar[c] = []\n",
    "        for trial in range(self.n_trials):            \n",
    "            start_t, end_t = np.long(self.start_sync_t[trial]), np.long(self.end_sync_t[trial])\n",
    "            trial_events = self.f.get_events(codes = self.codenames, time_range=[start_t, end_t])\n",
    "            trial_events = np.asarray([[e.code, e.time, e.data] for e in trial_events])         \n",
    "            # trial duration        \n",
    "            data_scalar['dur'].append((end_t - start_t)/10**6)        \n",
    "            for ci, c in enumerate(self.codenames): # currently this is only selecting card_b                \n",
    "                code = self.f.reverse_codec[c]\n",
    "                code_events = trial_events[np.where(trial_events[:, 0] == code)[0], 2]\n",
    "                data_scalar[c].append(code_events[0])                   \n",
    "            for ci, c in enumerate(self.meta.columns):\n",
    "                if c != 'card_a':\n",
    "                    data_scalar[c].append(self.meta.loc[trial][c]) \n",
    "            if self.meta.loc[trial]['trial_index'] != data_scalar['selection_trial_index'][trial] or self.meta.loc[trial]['card_a'] != data_scalar['card_a'][trial]:\n",
    "                print(self.meta.loc[trial]['card_a'])\n",
    "                print(data_scalar['card_a'][trial])\n",
    "                \n",
    "                print(\"Trial %d: meta and event stream are not aligned\" % trial) \n",
    "                break\n",
    "            card_a = data_scalar['card_a'][trial]\n",
    "            card_b = data_scalar['card_b'][trial]\n",
    "            grid = data_scalar['grid'][trial]\n",
    "            data_scalar['card_a_img'].append(data_scalar['grid'][trial][card_a])\n",
    "            data_scalar['card_b_img'].append(data_scalar['grid'][trial][card_b])\n",
    "            match = np.where(grid == grid[card_a])[0] \n",
    "            card_c = match[match != card_a]\n",
    "#             print(card_c[0])\n",
    "            data_scalar['card_c'].append(card_c[0])\n",
    "            # distance between locations of card a and b\n",
    "            data_scalar['dist_a_b'].append(self.get_dist(card_a, card_b, data_scalar['grid_dims'][trial]))\n",
    "            # distance between locations of card b and correct card\n",
    "            data_scalar['dist_b_c'].append(self.get_dist(card_a, card_c, data_scalar['grid_dims'][trial]))\n",
    "            \n",
    "        data_scalar['rt'] = self.get_reaction_times() \n",
    "        \n",
    "        data_scalar = pd.DataFrame(data_scalar)\n",
    "        return data_scalar\n",
    "    \n",
    "    def get_sync_times(self): \n",
    "        sync_events = self.f.get_events(codes=['sync'])\n",
    "        sync_events = np.asarray([[e.data, e.time] for e in sync_events])        \n",
    "        end_sync_t = sync_events[np.where(sync_events[:, 0] == TRIAL_END)[0], 1]\n",
    "        start_sync_t = sync_events[np.where(sync_events[:, 0] == TRIAL_INIT)[0], 1]\n",
    "        start_sync_t = start_sync_t[:len(end_sync_t)]\n",
    "        return start_sync_t, end_sync_t\n",
    "    \n",
    "    def get_dist(self, card_a, card_b, grid_dims): \n",
    "        card_a_loc = np.asarray([np.floor(card_a/grid_dims[1]), card_a%grid_dims[1]])\n",
    "        card_b_loc = np.asarray([np.floor(card_b/grid_dims[1]), card_b%grid_dims[1]])\n",
    "        return np.linalg.norm(card_a_loc - card_b_loc)\n",
    "    \n",
    "    def get_reaction_times(self):\n",
    "        rts = []\n",
    "        for trial in range(self.n_trials):\n",
    "            start_t, end_t = np.long(self.start_sync_t[trial]), np.long(self.end_sync_t[trial])\n",
    "            sync = self.f.get_events(codes = ['sync'], time_range=[start_t, end_t])\n",
    "            sync = np.asarray([[e.data, e.time] for e in sync])                \n",
    "            flip_card_a = sync[np.where(sync[:, 0] == FLIP_CARD_A)[0], 1]\n",
    "            flip_card_b = sync[np.where(sync[:, 0] == FLIP_CARD_B)[0], 1]\n",
    "            rt = np.long(flip_card_b) - np.long(flip_card_a)\n",
    "            rts.append(rt/10**6)\n",
    "        return rts"
   ]
  },
  {
   "cell_type": "code",
   "execution_count": 310,
   "metadata": {
    "collapsed": false,
    "pycharm": {
     "is_executing": false,
     "name": "#%%\n"
    }
   },
   "outputs": [
    {
     "name": "stdout",
     "output_type": "stream",
     "text": [
      "Collecting 356 trials of data\n",
      "Average trial duration: 1.460817 seconds\n",
      "27\n",
      "3\n",
      "Trial 0: meta and event stream are not aligned\n"
     ]
    },
    {
     "ename": "ValueError",
     "evalue": "arrays must all be same length",
     "output_type": "error",
     "traceback": [
      "\u001b[0;31m---------------------------------------------------\u001b[0m",
      "\u001b[0;31mValueError\u001b[0m        Traceback (most recent call last)",
      "\u001b[0;32m<ipython-input-310-2b23094ca05a>\u001b[0m in \u001b[0;36m<module>\u001b[0;34m\u001b[0m\n\u001b[1;32m      1\u001b[0m \u001b[0mfn\u001b[0m \u001b[0;34m=\u001b[0m \u001b[0;34m\"aidapiccato-concentration-20200121-082627.mwk2\"\u001b[0m\u001b[0;34m\u001b[0m\u001b[0;34m\u001b[0m\u001b[0m\n\u001b[0;32m----> 2\u001b[0;31m \u001b[0munpack\u001b[0m \u001b[0;34m=\u001b[0m \u001b[0mUnpack\u001b[0m\u001b[0;34m(\u001b[0m\u001b[0mfn\u001b[0m\u001b[0;34m,\u001b[0m \u001b[0msubject_fn\u001b[0m\u001b[0;34m)\u001b[0m\u001b[0;34m\u001b[0m\u001b[0;34m\u001b[0m\u001b[0m\n\u001b[0m",
      "\u001b[0;32m<ipython-input-309-8941feb69311>\u001b[0m in \u001b[0;36m__init__\u001b[0;34m(self, fn, subject_fn)\u001b[0m\n\u001b[1;32m     14\u001b[0m         \u001b[0mprint\u001b[0m\u001b[0;34m(\u001b[0m\u001b[0;34m'Average trial duration: %f seconds'\u001b[0m \u001b[0;34m%\u001b[0m \u001b[0mnp\u001b[0m\u001b[0;34m.\u001b[0m\u001b[0mmean\u001b[0m\u001b[0;34m(\u001b[0m\u001b[0mself\u001b[0m\u001b[0;34m.\u001b[0m\u001b[0mavg_trial_dur\u001b[0m\u001b[0;34m)\u001b[0m\u001b[0;34m)\u001b[0m\u001b[0;34m\u001b[0m\u001b[0;34m\u001b[0m\u001b[0m\n\u001b[1;32m     15\u001b[0m         \u001b[0mself\u001b[0m\u001b[0;34m.\u001b[0m\u001b[0mmeta\u001b[0m \u001b[0;34m=\u001b[0m \u001b[0mself\u001b[0m\u001b[0;34m.\u001b[0m\u001b[0mget_meta\u001b[0m\u001b[0;34m(\u001b[0m\u001b[0;34m)\u001b[0m\u001b[0;34m\u001b[0m\u001b[0;34m\u001b[0m\u001b[0m\n\u001b[0;32m---> 16\u001b[0;31m         \u001b[0mself\u001b[0m\u001b[0;34m.\u001b[0m\u001b[0mscalar\u001b[0m \u001b[0;34m=\u001b[0m \u001b[0mself\u001b[0m\u001b[0;34m.\u001b[0m\u001b[0mget_scalar_data\u001b[0m\u001b[0;34m(\u001b[0m\u001b[0;34m)\u001b[0m\u001b[0;34m\u001b[0m\u001b[0;34m\u001b[0m\u001b[0m\n\u001b[0m\u001b[1;32m     17\u001b[0m         \u001b[0mself\u001b[0m\u001b[0;34m.\u001b[0m\u001b[0manalog\u001b[0m \u001b[0;34m=\u001b[0m \u001b[0mself\u001b[0m\u001b[0;34m.\u001b[0m\u001b[0mget_analog_data\u001b[0m\u001b[0;34m(\u001b[0m\u001b[0;34m)\u001b[0m\u001b[0;34m\u001b[0m\u001b[0;34m\u001b[0m\u001b[0m\n\u001b[1;32m     18\u001b[0m     \u001b[0;32mdef\u001b[0m \u001b[0mget_meta\u001b[0m\u001b[0;34m(\u001b[0m\u001b[0mself\u001b[0m\u001b[0;34m)\u001b[0m\u001b[0;34m:\u001b[0m\u001b[0;34m\u001b[0m\u001b[0;34m\u001b[0m\u001b[0m\n",
      "\u001b[0;32m<ipython-input-309-8941feb69311>\u001b[0m in \u001b[0;36mget_scalar_data\u001b[0;34m(self)\u001b[0m\n\u001b[1;32m    107\u001b[0m         \u001b[0mdata_scalar\u001b[0m\u001b[0;34m[\u001b[0m\u001b[0;34m'rt'\u001b[0m\u001b[0;34m]\u001b[0m \u001b[0;34m=\u001b[0m \u001b[0mself\u001b[0m\u001b[0;34m.\u001b[0m\u001b[0mget_reaction_times\u001b[0m\u001b[0;34m(\u001b[0m\u001b[0;34m)\u001b[0m\u001b[0;34m\u001b[0m\u001b[0;34m\u001b[0m\u001b[0m\n\u001b[1;32m    108\u001b[0m \u001b[0;34m\u001b[0m\u001b[0m\n\u001b[0;32m--> 109\u001b[0;31m         \u001b[0mdata_scalar\u001b[0m \u001b[0;34m=\u001b[0m \u001b[0mpd\u001b[0m\u001b[0;34m.\u001b[0m\u001b[0mDataFrame\u001b[0m\u001b[0;34m(\u001b[0m\u001b[0mdata_scalar\u001b[0m\u001b[0;34m)\u001b[0m\u001b[0;34m\u001b[0m\u001b[0;34m\u001b[0m\u001b[0m\n\u001b[0m\u001b[1;32m    110\u001b[0m         \u001b[0;32mreturn\u001b[0m \u001b[0mdata_scalar\u001b[0m\u001b[0;34m\u001b[0m\u001b[0;34m\u001b[0m\u001b[0m\n\u001b[1;32m    111\u001b[0m \u001b[0;34m\u001b[0m\u001b[0m\n",
      "\u001b[0;32m/usr/local/lib/python3.7/site-packages/pandas/core/frame.py\u001b[0m in \u001b[0;36m__init__\u001b[0;34m(self, data, index, columns, dtype, copy)\u001b[0m\n\u001b[1;32m    346\u001b[0m                                  dtype=dtype, copy=copy)\n\u001b[1;32m    347\u001b[0m         \u001b[0;32melif\u001b[0m \u001b[0misinstance\u001b[0m\u001b[0;34m(\u001b[0m\u001b[0mdata\u001b[0m\u001b[0;34m,\u001b[0m \u001b[0mdict\u001b[0m\u001b[0;34m)\u001b[0m\u001b[0;34m:\u001b[0m\u001b[0;34m\u001b[0m\u001b[0;34m\u001b[0m\u001b[0m\n\u001b[0;32m--> 348\u001b[0;31m             \u001b[0mmgr\u001b[0m \u001b[0;34m=\u001b[0m \u001b[0mself\u001b[0m\u001b[0;34m.\u001b[0m\u001b[0m_init_dict\u001b[0m\u001b[0;34m(\u001b[0m\u001b[0mdata\u001b[0m\u001b[0;34m,\u001b[0m \u001b[0mindex\u001b[0m\u001b[0;34m,\u001b[0m \u001b[0mcolumns\u001b[0m\u001b[0;34m,\u001b[0m \u001b[0mdtype\u001b[0m\u001b[0;34m=\u001b[0m\u001b[0mdtype\u001b[0m\u001b[0;34m)\u001b[0m\u001b[0;34m\u001b[0m\u001b[0;34m\u001b[0m\u001b[0m\n\u001b[0m\u001b[1;32m    349\u001b[0m         \u001b[0;32melif\u001b[0m \u001b[0misinstance\u001b[0m\u001b[0;34m(\u001b[0m\u001b[0mdata\u001b[0m\u001b[0;34m,\u001b[0m \u001b[0mma\u001b[0m\u001b[0;34m.\u001b[0m\u001b[0mMaskedArray\u001b[0m\u001b[0;34m)\u001b[0m\u001b[0;34m:\u001b[0m\u001b[0;34m\u001b[0m\u001b[0;34m\u001b[0m\u001b[0m\n\u001b[1;32m    350\u001b[0m             \u001b[0;32mimport\u001b[0m \u001b[0mnumpy\u001b[0m\u001b[0;34m.\u001b[0m\u001b[0mma\u001b[0m\u001b[0;34m.\u001b[0m\u001b[0mmrecords\u001b[0m \u001b[0;32mas\u001b[0m \u001b[0mmrecords\u001b[0m\u001b[0;34m\u001b[0m\u001b[0;34m\u001b[0m\u001b[0m\n",
      "\u001b[0;32m/usr/local/lib/python3.7/site-packages/pandas/core/frame.py\u001b[0m in \u001b[0;36m_init_dict\u001b[0;34m(self, data, index, columns, dtype)\u001b[0m\n\u001b[1;32m    457\u001b[0m             \u001b[0marrays\u001b[0m \u001b[0;34m=\u001b[0m \u001b[0;34m[\u001b[0m\u001b[0mdata\u001b[0m\u001b[0;34m[\u001b[0m\u001b[0mk\u001b[0m\u001b[0;34m]\u001b[0m \u001b[0;32mfor\u001b[0m \u001b[0mk\u001b[0m \u001b[0;32min\u001b[0m \u001b[0mkeys\u001b[0m\u001b[0;34m]\u001b[0m\u001b[0;34m\u001b[0m\u001b[0;34m\u001b[0m\u001b[0m\n\u001b[1;32m    458\u001b[0m \u001b[0;34m\u001b[0m\u001b[0m\n\u001b[0;32m--> 459\u001b[0;31m         \u001b[0;32mreturn\u001b[0m \u001b[0m_arrays_to_mgr\u001b[0m\u001b[0;34m(\u001b[0m\u001b[0marrays\u001b[0m\u001b[0;34m,\u001b[0m \u001b[0mdata_names\u001b[0m\u001b[0;34m,\u001b[0m \u001b[0mindex\u001b[0m\u001b[0;34m,\u001b[0m \u001b[0mcolumns\u001b[0m\u001b[0;34m,\u001b[0m \u001b[0mdtype\u001b[0m\u001b[0;34m=\u001b[0m\u001b[0mdtype\u001b[0m\u001b[0;34m)\u001b[0m\u001b[0;34m\u001b[0m\u001b[0;34m\u001b[0m\u001b[0m\n\u001b[0m\u001b[1;32m    460\u001b[0m \u001b[0;34m\u001b[0m\u001b[0m\n\u001b[1;32m    461\u001b[0m     \u001b[0;32mdef\u001b[0m \u001b[0m_init_ndarray\u001b[0m\u001b[0;34m(\u001b[0m\u001b[0mself\u001b[0m\u001b[0;34m,\u001b[0m \u001b[0mvalues\u001b[0m\u001b[0;34m,\u001b[0m \u001b[0mindex\u001b[0m\u001b[0;34m,\u001b[0m \u001b[0mcolumns\u001b[0m\u001b[0;34m,\u001b[0m \u001b[0mdtype\u001b[0m\u001b[0;34m=\u001b[0m\u001b[0;32mNone\u001b[0m\u001b[0;34m,\u001b[0m \u001b[0mcopy\u001b[0m\u001b[0;34m=\u001b[0m\u001b[0;32mFalse\u001b[0m\u001b[0;34m)\u001b[0m\u001b[0;34m:\u001b[0m\u001b[0;34m\u001b[0m\u001b[0;34m\u001b[0m\u001b[0m\n",
      "\u001b[0;32m/usr/local/lib/python3.7/site-packages/pandas/core/frame.py\u001b[0m in \u001b[0;36m_arrays_to_mgr\u001b[0;34m(arrays, arr_names, index, columns, dtype)\u001b[0m\n\u001b[1;32m   7354\u001b[0m     \u001b[0;31m# figure out the index, if necessary\u001b[0m\u001b[0;34m\u001b[0m\u001b[0;34m\u001b[0m\u001b[0;34m\u001b[0m\u001b[0m\n\u001b[1;32m   7355\u001b[0m     \u001b[0;32mif\u001b[0m \u001b[0mindex\u001b[0m \u001b[0;32mis\u001b[0m \u001b[0;32mNone\u001b[0m\u001b[0;34m:\u001b[0m\u001b[0;34m\u001b[0m\u001b[0;34m\u001b[0m\u001b[0m\n\u001b[0;32m-> 7356\u001b[0;31m         \u001b[0mindex\u001b[0m \u001b[0;34m=\u001b[0m \u001b[0mextract_index\u001b[0m\u001b[0;34m(\u001b[0m\u001b[0marrays\u001b[0m\u001b[0;34m)\u001b[0m\u001b[0;34m\u001b[0m\u001b[0;34m\u001b[0m\u001b[0m\n\u001b[0m\u001b[1;32m   7357\u001b[0m \u001b[0;34m\u001b[0m\u001b[0m\n\u001b[1;32m   7358\u001b[0m     \u001b[0;31m# don't force copy because getting jammed in an ndarray anyway\u001b[0m\u001b[0;34m\u001b[0m\u001b[0;34m\u001b[0m\u001b[0;34m\u001b[0m\u001b[0m\n",
      "\u001b[0;32m/usr/local/lib/python3.7/site-packages/pandas/core/frame.py\u001b[0m in \u001b[0;36mextract_index\u001b[0;34m(data)\u001b[0m\n\u001b[1;32m   7400\u001b[0m             \u001b[0mlengths\u001b[0m \u001b[0;34m=\u001b[0m \u001b[0mlist\u001b[0m\u001b[0;34m(\u001b[0m\u001b[0mset\u001b[0m\u001b[0;34m(\u001b[0m\u001b[0mraw_lengths\u001b[0m\u001b[0;34m)\u001b[0m\u001b[0;34m)\u001b[0m\u001b[0;34m\u001b[0m\u001b[0;34m\u001b[0m\u001b[0m\n\u001b[1;32m   7401\u001b[0m             \u001b[0;32mif\u001b[0m \u001b[0mlen\u001b[0m\u001b[0;34m(\u001b[0m\u001b[0mlengths\u001b[0m\u001b[0;34m)\u001b[0m \u001b[0;34m>\u001b[0m \u001b[0;36m1\u001b[0m\u001b[0;34m:\u001b[0m\u001b[0;34m\u001b[0m\u001b[0;34m\u001b[0m\u001b[0m\n\u001b[0;32m-> 7402\u001b[0;31m                 \u001b[0;32mraise\u001b[0m \u001b[0mValueError\u001b[0m\u001b[0;34m(\u001b[0m\u001b[0;34m'arrays must all be same length'\u001b[0m\u001b[0;34m)\u001b[0m\u001b[0;34m\u001b[0m\u001b[0;34m\u001b[0m\u001b[0m\n\u001b[0m\u001b[1;32m   7403\u001b[0m \u001b[0;34m\u001b[0m\u001b[0m\n\u001b[1;32m   7404\u001b[0m             \u001b[0;32mif\u001b[0m \u001b[0mhave_dicts\u001b[0m\u001b[0;34m:\u001b[0m\u001b[0;34m\u001b[0m\u001b[0;34m\u001b[0m\u001b[0m\n",
      "\u001b[0;31mValueError\u001b[0m: arrays must all be same length"
     ]
    }
   ],
   "source": [
    "fn = \"aidapiccato-concentration-20200121-082627.mwk2\"\n",
    "unpack = Unpack(fn, subject_fn)"
   ]
  },
  {
   "cell_type": "code",
   "execution_count": 319,
   "metadata": {},
   "outputs": [
    {
     "data": {
      "image/png": "[encoded data removed]",
      "text/plain": [
       "<Figure size 700x500 with 1 Axes>"
      ]
     },
     "metadata": {},
     "output_type": "display_data"
    }
   ],
   "source": [
    "# duration of block averaged across grid sizes\n",
    "block_avg_dur = unpack.scalar.groupby('n_pairs')['dur'].sum()/unpack.scalar.groupby('n_pairs')['block_index'].nunique()\n",
    "f, ax = plt.subplots(1, 1, figsize=(7, 5), dpi=100)\n",
    "ax.bar(block_avg_dur.keys(), block_avg_dur)\n",
    "ax.set_xticks(block_avg_dur.keys())\n",
    "ax.set_xlabel('number of pairs')\n",
    "ax.set_ylabel('average duration (seconds)')\n",
    "ax.set_title('avg. block duration across grid sizes')\n",
    "prettify(ax)\n",
    "plt.show()"
   ]
  },
  {
   "cell_type": "code",
   "execution_count": 321,
   "metadata": {},
   "outputs": [
    {
     "data": {
      "text/plain": [
       "20.0"
      ]
     },
     "execution_count": 321,
     "metadata": {},
     "output_type": "execute_result"
    }
   ],
   "source": [
    "n_repeats = 4\n",
    "((25 + 75 + 200) * n_repeats)/60"
   ]
  },
  {
   "cell_type": "markdown",
   "metadata": {},
   "source": [
    "***"
   ]
  },
  {
   "cell_type": "markdown",
   "metadata": {},
   "source": [
    "### Plotting methods (TODO: move to separate utils file)"
   ]
  },
  {
   "cell_type": "code",
   "execution_count": 290,
   "metadata": {},
   "outputs": [],
   "source": [
    "def prettify(ax):\n",
    "    ax.spines['top'].set_visible(False)\n",
    "    ax.spines['right'].set_visible(False)\n",
    "    ax.title.set_style('italic')\n",
    "    ax.title.set_size(20)"
   ]
  }
 ],
 "metadata": {
  "kernelspec": {
   "display_name": "Python 3",
   "language": "python",
   "name": "python3"
  },
  "language_info": {
   "codemirror_mode": {
    "name": "ipython",
    "version": 3
   },
   "file_extension": ".py",
   "mimetype": "text/x-python",
   "name": "python",
   "nbconvert_exporter": "python",
   "pygments_lexer": "ipython3",
   "version": "3.7.4"
  },
  "pycharm": {
   "stem_cell": {
    "cell_type": "raw",
    "metadata": {
     "collapsed": false
    },
    "source": []
   }
  }
 },
 "nbformat": 4,
 "nbformat_minor": 2
}
