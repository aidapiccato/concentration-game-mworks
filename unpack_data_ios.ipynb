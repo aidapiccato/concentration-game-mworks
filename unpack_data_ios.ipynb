{
 "cells": [
  {
   "cell_type": "code",
   "execution_count": 1,
   "metadata": {
    "pycharm": {
     "is_executing": false
    }
   },
   "outputs": [],
   "source": [
    "import numpy as np\n",
    "import sys\n",
    "sys.path.insert(0, '/Library/Application Support/MWorks/Scripting/Python')\n",
    "from mworks.data import MWKFile\n",
    "import matplotlib.pyplot as plt\n",
    "import matplotlib.style as style \n",
    "import pandas as pd\n",
    "\n",
    "style.use('seaborn-poster') \n",
    "style.use('seaborn-white')"
   ]
  },
  {
   "cell_type": "code",
   "execution_count": 2,
   "metadata": {
    "pycharm": {
     "is_executing": false,
     "name": "#%%\n"
    }
   },
   "outputs": [],
   "source": [
    "username = 'apiccato'\n",
    "dir_path = '/Users/%s/PyCharmProjects/concentration/concentration-game-mworks' % username\n",
    "subject_id = 0"
   ]
  },
  {
   "cell_type": "code",
   "execution_count": 3,
   "metadata": {
    "pycharm": {
     "is_executing": false,
     "name": "#%%\n"
    }
   },
   "outputs": [],
   "source": [
    "## sync times \n",
    "ITI = 1\n",
    "TRIAL_INIT = 2\n",
    "FLIP_CARD_A = 3\n",
    "FLIP_CARD_B = 4\n",
    "FEEDBACK = 5\n",
    "TRIAL_END = 6"
   ]
  },
  {
   "cell_type": "code",
   "execution_count": 4,
   "metadata": {
    "pycharm": {
     "is_executing": false
    }
   },
   "outputs": [],
   "source": [
    "class Unpack():    \n",
    "    def __init__(self, fn):\n",
    "        fpath = '/Users/%s/Documents/MWorks/Data' % username\n",
    "        self.fn = fn        \n",
    "        self.f =  MWKFile('%s/%s' % (fpath, fn))\n",
    "        self.f.open()\n",
    "        self.codec = self.f.codec\n",
    "        self.codenames = ['card_b', 'card_a',  'grid', 'grid_dims', 'inv_grid', 'n_pairs', 'block_index', 'success', 'ignore', 'failure', 'trial_index'] \n",
    "        self.start_sync_t, self.end_sync_t = self.get_sync_times()\n",
    "        self.n_trials = len(self.start_sync_t)\n",
    "        print('Collecting %d trials of data' % self.n_trials)\n",
    "        self.avg_trial_dur = (self.end_sync_t - self.start_sync_t) / 10**6\n",
    "        print('Average trial duration: %f seconds' % np.mean(self.avg_trial_dur))        \n",
    "        self.scalar = self.get_scalar_data()        \n",
    "\n",
    "                \n",
    "    def get_scalar_data(self):\n",
    "        data_scalar = {'dur': [], 'card_a_img': [], 'card_b_img': [], 'card_c': [], 'dist_a_b': [], 'dist_b_c': [], \n",
    "                       'success': [], 'failure': [], 'card_a_t': [], 'trial_index': []}\n",
    "        \n",
    "        for c in self.codenames:\n",
    "            data_scalar[c] = []\n",
    "\n",
    "        for trial in range(self.n_trials):            \n",
    "            start_t, end_t = np.long(self.start_sync_t[trial]), np.long(self.end_sync_t[trial])\n",
    "            trial_events = self.f.get_events(codes = self.codenames, time_range=[start_t, end_t])\n",
    "            trial_events = np.asarray([[e.code, e.time, e.data] for e in trial_events])         \n",
    "            # trial duration        \n",
    "            data_scalar['dur'].append((end_t - start_t)/10**6)        \n",
    "            for ci, c in enumerate(self.codenames): # currently this is only selecting card_b                \n",
    "                code = self.f.reverse_codec[c]\n",
    "                code_events = trial_events[np.where(trial_events[:, 0] == code)[0], 2]\n",
    "                data_scalar[c].append(code_events[0])                    \n",
    "            \n",
    "            card_a = data_scalar['card_a'][trial]\n",
    "            card_b = data_scalar['card_b'][trial]\n",
    "            grid = np.asarray(data_scalar['grid'][trial])\n",
    "            match = np.where(grid == grid[card_a])[0]            \n",
    "            card_c = match[match != card_a]                \n",
    "            \n",
    "            data_scalar['card_c'].append(card_c[0])\n",
    "            \n",
    "            data_scalar['card_a_img'].append(data_scalar['grid'][trial][card_a])\n",
    "            data_scalar['card_b_img'].append(data_scalar['grid'][trial][card_b])\n",
    "            \n",
    "            # distance between locations of card a and b\n",
    "            data_scalar['dist_a_b'].append(self.get_dist(card_a, card_b, data_scalar['grid_dims'][trial]))\n",
    "            \n",
    "            # distance between locations of card b and correct card\n",
    "            data_scalar['dist_b_c'].append(self.get_dist(card_b, card_c, data_scalar['grid_dims'][trial]))\n",
    "\n",
    "        data_scalar['rt'] = self.get_reaction_times() \n",
    "        data_scalar['card_a_t'] = self.get_t(FLIP_CARD_A)\n",
    "\n",
    "        data_scalar = pd.DataFrame(data_scalar)\n",
    "        \n",
    "        return data_scalar\n",
    "    \n",
    "    def get_t(self, sync):\n",
    "\n",
    "        sync_events = self.f.get_events(codes = ['sync'])\n",
    "        sync_events = np.asarray([[e.code, e.time, e.data] for e in sync_events])\n",
    "        sync_events = sync_events[np.where(sync_events[:, 2] == sync)[0], 1]\n",
    "        return sync_events\n",
    "\n",
    "    \n",
    "    def get_analog_data(self):\n",
    "        data_analog = {'card': [], 'trial_index': [], 'time': [], 'block_index': [], 'flipped': []} \n",
    "        \n",
    "        for t in range(self.n_trials):\n",
    "            start_t, end_t = np.long(self.start_sync_t[t]), np.long(self.end_sync_t[t])\n",
    "            trial_events = self.f.get_events(codes=['sync'], time_range=[start_t, end_t])\n",
    "            trial_events = np.asarray([[e.code, e.time, e.data] for e in trial_events])\n",
    "            card_a_t = trial_events[np.where(trial_events[:, 2] == FLIP_CARD_A)[0], 1]\n",
    "            card_b_t = trial_events[np.where(trial_events[:, 2] == FLIP_CARD_B)[0], 1]\n",
    "            \n",
    "            data_analog['card'].append(self.scalar['card_a'][t])\n",
    "            data_analog['trial_index'].append(t)\n",
    "            data_analog['time'].append(card_a_t[0])\n",
    "            data_analog['block_index'].append(self.scalar['block_index'][t])\n",
    "            data_analog['flipped'].append(False)\n",
    "            \n",
    "            \n",
    "            if len(card_b_t) > 0:\n",
    "                data_analog['card'].append(self.scalar['card_b'][t])\n",
    "                data_analog['trial_index'].append(t)\n",
    "                data_analog['time'].append(card_b_t[0])         \n",
    "                data_analog['block_index'].append(self.scalar['block_index'][t])\n",
    "                data_analog['flipped'].append(True)\n",
    "                        \n",
    "        data_analog = pd.DataFrame(data_analog)    \n",
    "        data_analog.reset_index(inplace=True)\n",
    "                                               \n",
    "        return data_analog\n",
    "    \n",
    "    def get_sync_times(self): \n",
    "        sync_events = self.f.get_events(codes=['sync'])\n",
    "        sync_events = np.asarray([[e.data, e.time] for e in sync_events])        \n",
    "        end_sync_t = sync_events[np.where(sync_events[:, 0] == TRIAL_END)[0], 1]\n",
    "        start_sync_t = sync_events[np.where(sync_events[:, 0] == TRIAL_INIT)[0], 1]\n",
    "        start_sync_t = start_sync_t[:len(end_sync_t)]\n",
    "        return start_sync_t, end_sync_t\n",
    "    \n",
    "    def get_dist(self, card_a, card_b, grid_dims): \n",
    "        card_a_loc = np.asarray([np.floor(card_a/grid_dims[1]), card_a%grid_dims[1]])\n",
    "        card_b_loc = np.asarray([np.floor(card_b/grid_dims[1]), card_b%grid_dims[1]])\n",
    "        return np.linalg.norm(card_a_loc - card_b_loc)\n",
    "    \n",
    "    def get_reaction_times(self):\n",
    "        rts = []\n",
    "        for trial in range(self.n_trials):\n",
    "            start_t, end_t = np.long(self.start_sync_t[trial]), np.long(self.end_sync_t[trial])\n",
    "            sync = self.f.get_events(codes = ['sync'], time_range=[start_t, end_t])\n",
    "            sync = np.asarray([[e.data, e.time] for e in sync])                \n",
    "            flip_card_a = sync[np.where(sync[:, 0] == FLIP_CARD_A)[0], 1]\n",
    "            flip_card_b = sync[np.where(sync[:, 0] == FLIP_CARD_B)[0], 1]                    \n",
    "            if len(flip_card_b) == 0:\n",
    "                flip_card_b = [flip_card_a]\n",
    "            rt = np.long(flip_card_b[0]) - np.long(flip_card_a[0])\n",
    "            rts.append(rt/10**6)\n",
    "        return rts"
   ]
  },
  {
   "cell_type": "code",
   "execution_count": 5,
   "metadata": {
    "pycharm": {
     "is_executing": false,
     "name": "#%%\n"
    }
   },
   "outputs": [
    {
     "name": "stdout",
     "output_type": "stream",
     "text": [
      "Collecting 552 trials of data\n",
      "Average trial duration: 1.791560 seconds\n"
     ]
    }
   ],
   "source": [
    "fn = \"apiccato-concentration-ios-20200123-133010.mwk2\"\n",
    "unpack = Unpack(fn)"
   ]
  },
  {
   "cell_type": "code",
   "execution_count": 29,
   "metadata": {},
   "outputs": [],
   "source": [
    "class Analysis:\n",
    "    def __init__(self, unpack):\n",
    "        self.scalar = unpack.scalar\n",
    "        self.card_views = unpack.get_analog_data()\n",
    "        self.spatial_dist = self.get_spatial_dist()\n",
    "        self.temporal_dist = self.get_temporal_dist()\n",
    "        self.n_trials = len(self.scalar)        \n",
    "        \n",
    "    def get_spatial_dist(self):\n",
    "        spatial_dist = pd.DataFrame()\n",
    "        spatial_dist['dist_a_b'] = self.scalar.apply(lambda t: self.get_dist_norm(t.card_a, t.card_b, t.grid_dims), \n",
    "                                                     axis=1)\n",
    "        spatial_dist['dist_a_c'] = self.scalar.apply(lambda t: self.get_dist_norm(t.card_a, t.card_c, t.grid_dims), \n",
    "                                                     axis=1)\n",
    "        spatial_dist['dist_b_c'] = self.scalar.apply(lambda t: self.get_dist_norm(t.card_b, t.card_c, t.grid_dims), \n",
    "                                                     axis=1)\n",
    "        return spatial_dist\n",
    "    \n",
    "    def get_temporal_dist(self):\n",
    "        temporal_dist = pd.DataFrame()\n",
    "        # time since card_c was last seen\n",
    "        temporal_dist['t_c'] = self.scalar.apply(lambda t: self.get_t_dist_cont(t.card_c, t.trial_index, \\\n",
    "                                                                                t.block_index), axis=1)\n",
    "        # time since card_b was last seen\n",
    "        temporal_dist['t_b'] = self.scalar.apply(lambda t: self.get_t_dist_cont(t.card_b, t.trial_index, \\\n",
    "                                                                                t.block_index), axis=1)\n",
    "        # number of cards since card_c was last seen\n",
    "        temporal_dist['n_imgs_c'] = self.scalar.apply(lambda t: self.get_t_dist_disc(t.card_c, t.trial_index,\n",
    "                                                                                    t.block_index), axis=1)            \n",
    "        # number of cards since card_b was last seen\n",
    "#         temporal_dist['n_imgs_b'] = self.scalar.apply(lambda t: self.get_t_dist_disc(t.card_b, t.trial_index, \n",
    "#                                                                                     t.block_index), axis=1)                 \n",
    "        return temporal_dist\n",
    "        \n",
    "    def get_t_dist_cont(self, card, trial_index, block_index):     \n",
    "        last_t = self.card_views[self.card_views.card.eq(card) & self.card_views.block_index.eq(block_index) & \n",
    "                                 self.card_views.trial_index.lt(trial_index)]\n",
    "        \n",
    "        if len(last_t) > 0:\n",
    "            return last_t.iloc[-1].time\n",
    "        return -1    \n",
    "    \n",
    "    def get_t_dist_disc(self, card, trial_index, block_index):\n",
    "        last_t = self.card_views[self.card_views.card.eq(card) & self.card_views.block_index.eq(block_index) & \n",
    "                                 self.card_views.trial_index.lt(trial_index)]\n",
    "        curr_t = self.card_views[self.card_views.card.eq(card) & self.card_views.block_index.eq(block_index) & \n",
    "                                 self.card_views.trial_index.eq(trial_index/2)] # REMEMBER TO REMOVE /2 WHEN YOU FIX TRIAL INDEX THING\n",
    "        if len(last_t) > 0:\n",
    "            return last_t.iloc[-1]['index'] - curr_t.iloc[-1]['index']\n",
    "                                 \n",
    "        return -1\n",
    "        \n",
    "    def get_dist_norm(self, card_a, card_b, grid_dims): \n",
    "        card_a_loc = np.asarray([np.floor(card_a/grid_dims[1]), card_a%grid_dims[1]])\n",
    "        card_b_loc = np.asarray([np.floor(card_b/grid_dims[1]), card_b%grid_dims[1]])\n",
    "        max_dist = np.linalg.norm(np.asarray([0, 0]) - np.asarray([grid_dims[0]-1, grid_dims[1]-1]))\n",
    "        return np.linalg.norm(card_a_loc - card_b_loc)/max_dist    "
   ]
  },
  {
   "cell_type": "code",
   "execution_count": 30,
   "metadata": {},
   "outputs": [],
   "source": [
    "card_views = unpack.get_analog_data()"
   ]
  },
  {
   "cell_type": "code",
   "execution_count": 31,
   "metadata": {
    "scrolled": true
   },
   "outputs": [
    {
     "ename": "IndexError",
     "evalue": "('single positional indexer is out-of-bounds', 'occurred at index 14')",
     "output_type": "error",
     "traceback": [
      "\u001b[0;31m---------------------------------------------------------------------------\u001b[0m",
      "\u001b[0;31mIndexError\u001b[0m                                Traceback (most recent call last)",
      "\u001b[0;32m<ipython-input-31-c489a1944c83>\u001b[0m in \u001b[0;36m<module>\u001b[0;34m\u001b[0m\n\u001b[0;32m----> 1\u001b[0;31m \u001b[0ma\u001b[0m \u001b[0;34m=\u001b[0m \u001b[0mAnalysis\u001b[0m\u001b[0;34m(\u001b[0m\u001b[0munpack\u001b[0m\u001b[0;34m)\u001b[0m\u001b[0;34m\u001b[0m\u001b[0;34m\u001b[0m\u001b[0m\n\u001b[0m",
      "\u001b[0;32m<ipython-input-29-51347577084f>\u001b[0m in \u001b[0;36m__init__\u001b[0;34m(self, unpack)\u001b[0m\n\u001b[1;32m      4\u001b[0m         \u001b[0mself\u001b[0m\u001b[0;34m.\u001b[0m\u001b[0mcard_views\u001b[0m \u001b[0;34m=\u001b[0m \u001b[0munpack\u001b[0m\u001b[0;34m.\u001b[0m\u001b[0mget_analog_data\u001b[0m\u001b[0;34m(\u001b[0m\u001b[0;34m)\u001b[0m\u001b[0;34m\u001b[0m\u001b[0;34m\u001b[0m\u001b[0m\n\u001b[1;32m      5\u001b[0m         \u001b[0mself\u001b[0m\u001b[0;34m.\u001b[0m\u001b[0mspatial_dist\u001b[0m \u001b[0;34m=\u001b[0m \u001b[0mself\u001b[0m\u001b[0;34m.\u001b[0m\u001b[0mget_spatial_dist\u001b[0m\u001b[0;34m(\u001b[0m\u001b[0;34m)\u001b[0m\u001b[0;34m\u001b[0m\u001b[0;34m\u001b[0m\u001b[0m\n\u001b[0;32m----> 6\u001b[0;31m         \u001b[0mself\u001b[0m\u001b[0;34m.\u001b[0m\u001b[0mtemporal_dist\u001b[0m \u001b[0;34m=\u001b[0m \u001b[0mself\u001b[0m\u001b[0;34m.\u001b[0m\u001b[0mget_temporal_dist\u001b[0m\u001b[0;34m(\u001b[0m\u001b[0;34m)\u001b[0m\u001b[0;34m\u001b[0m\u001b[0;34m\u001b[0m\u001b[0m\n\u001b[0m\u001b[1;32m      7\u001b[0m         \u001b[0mself\u001b[0m\u001b[0;34m.\u001b[0m\u001b[0mn_trials\u001b[0m \u001b[0;34m=\u001b[0m \u001b[0mlen\u001b[0m\u001b[0;34m(\u001b[0m\u001b[0mself\u001b[0m\u001b[0;34m.\u001b[0m\u001b[0mscalar\u001b[0m\u001b[0;34m)\u001b[0m\u001b[0;34m\u001b[0m\u001b[0;34m\u001b[0m\u001b[0m\n\u001b[1;32m      8\u001b[0m \u001b[0;34m\u001b[0m\u001b[0m\n",
      "\u001b[0;32m<ipython-input-29-51347577084f>\u001b[0m in \u001b[0;36mget_temporal_dist\u001b[0;34m(self)\u001b[0m\n\u001b[1;32m     27\u001b[0m         \u001b[0;31m# number of cards since card_c was last seen\u001b[0m\u001b[0;34m\u001b[0m\u001b[0;34m\u001b[0m\u001b[0;34m\u001b[0m\u001b[0m\n\u001b[1;32m     28\u001b[0m         temporal_dist['n_imgs_c'] = self.scalar.apply(lambda t: self.get_t_dist_disc(t.card_c, t.trial_index,\n\u001b[0;32m---> 29\u001b[0;31m                                                                                     t.block_index), axis=1)            \n\u001b[0m\u001b[1;32m     30\u001b[0m         \u001b[0;31m# number of cards since card_b was last seen\u001b[0m\u001b[0;34m\u001b[0m\u001b[0;34m\u001b[0m\u001b[0;34m\u001b[0m\u001b[0m\n\u001b[1;32m     31\u001b[0m \u001b[0;31m#         temporal_dist['n_imgs_b'] = self.scalar.apply(lambda t: self.get_t_dist_disc(t.card_b, t.trial_index,\u001b[0m\u001b[0;34m\u001b[0m\u001b[0;34m\u001b[0m\u001b[0;34m\u001b[0m\u001b[0m\n",
      "\u001b[0;32m~/PycharmProjects/concentration/env/lib/python3.7/site-packages/pandas/core/frame.py\u001b[0m in \u001b[0;36mapply\u001b[0;34m(self, func, axis, broadcast, raw, reduce, result_type, args, **kwds)\u001b[0m\n\u001b[1;32m   6926\u001b[0m             \u001b[0mkwds\u001b[0m\u001b[0;34m=\u001b[0m\u001b[0mkwds\u001b[0m\u001b[0;34m,\u001b[0m\u001b[0;34m\u001b[0m\u001b[0;34m\u001b[0m\u001b[0m\n\u001b[1;32m   6927\u001b[0m         )\n\u001b[0;32m-> 6928\u001b[0;31m         \u001b[0;32mreturn\u001b[0m \u001b[0mop\u001b[0m\u001b[0;34m.\u001b[0m\u001b[0mget_result\u001b[0m\u001b[0;34m(\u001b[0m\u001b[0;34m)\u001b[0m\u001b[0;34m\u001b[0m\u001b[0;34m\u001b[0m\u001b[0m\n\u001b[0m\u001b[1;32m   6929\u001b[0m \u001b[0;34m\u001b[0m\u001b[0m\n\u001b[1;32m   6930\u001b[0m     \u001b[0;32mdef\u001b[0m \u001b[0mapplymap\u001b[0m\u001b[0;34m(\u001b[0m\u001b[0mself\u001b[0m\u001b[0;34m,\u001b[0m \u001b[0mfunc\u001b[0m\u001b[0;34m)\u001b[0m\u001b[0;34m:\u001b[0m\u001b[0;34m\u001b[0m\u001b[0;34m\u001b[0m\u001b[0m\n",
      "\u001b[0;32m~/PycharmProjects/concentration/env/lib/python3.7/site-packages/pandas/core/apply.py\u001b[0m in \u001b[0;36mget_result\u001b[0;34m(self)\u001b[0m\n\u001b[1;32m    184\u001b[0m             \u001b[0;32mreturn\u001b[0m \u001b[0mself\u001b[0m\u001b[0;34m.\u001b[0m\u001b[0mapply_raw\u001b[0m\u001b[0;34m(\u001b[0m\u001b[0;34m)\u001b[0m\u001b[0;34m\u001b[0m\u001b[0;34m\u001b[0m\u001b[0m\n\u001b[1;32m    185\u001b[0m \u001b[0;34m\u001b[0m\u001b[0m\n\u001b[0;32m--> 186\u001b[0;31m         \u001b[0;32mreturn\u001b[0m \u001b[0mself\u001b[0m\u001b[0;34m.\u001b[0m\u001b[0mapply_standard\u001b[0m\u001b[0;34m(\u001b[0m\u001b[0;34m)\u001b[0m\u001b[0;34m\u001b[0m\u001b[0;34m\u001b[0m\u001b[0m\n\u001b[0m\u001b[1;32m    187\u001b[0m \u001b[0;34m\u001b[0m\u001b[0m\n\u001b[1;32m    188\u001b[0m     \u001b[0;32mdef\u001b[0m \u001b[0mapply_empty_result\u001b[0m\u001b[0;34m(\u001b[0m\u001b[0mself\u001b[0m\u001b[0;34m)\u001b[0m\u001b[0;34m:\u001b[0m\u001b[0;34m\u001b[0m\u001b[0;34m\u001b[0m\u001b[0m\n",
      "\u001b[0;32m~/PycharmProjects/concentration/env/lib/python3.7/site-packages/pandas/core/apply.py\u001b[0m in \u001b[0;36mapply_standard\u001b[0;34m(self)\u001b[0m\n\u001b[1;32m    290\u001b[0m \u001b[0;34m\u001b[0m\u001b[0m\n\u001b[1;32m    291\u001b[0m         \u001b[0;31m# compute the result using the series generator\u001b[0m\u001b[0;34m\u001b[0m\u001b[0;34m\u001b[0m\u001b[0;34m\u001b[0m\u001b[0m\n\u001b[0;32m--> 292\u001b[0;31m         \u001b[0mself\u001b[0m\u001b[0;34m.\u001b[0m\u001b[0mapply_series_generator\u001b[0m\u001b[0;34m(\u001b[0m\u001b[0;34m)\u001b[0m\u001b[0;34m\u001b[0m\u001b[0;34m\u001b[0m\u001b[0m\n\u001b[0m\u001b[1;32m    293\u001b[0m \u001b[0;34m\u001b[0m\u001b[0m\n\u001b[1;32m    294\u001b[0m         \u001b[0;31m# wrap results\u001b[0m\u001b[0;34m\u001b[0m\u001b[0;34m\u001b[0m\u001b[0;34m\u001b[0m\u001b[0m\n",
      "\u001b[0;32m~/PycharmProjects/concentration/env/lib/python3.7/site-packages/pandas/core/apply.py\u001b[0m in \u001b[0;36mapply_series_generator\u001b[0;34m(self)\u001b[0m\n\u001b[1;32m    319\u001b[0m             \u001b[0;32mtry\u001b[0m\u001b[0;34m:\u001b[0m\u001b[0;34m\u001b[0m\u001b[0;34m\u001b[0m\u001b[0m\n\u001b[1;32m    320\u001b[0m                 \u001b[0;32mfor\u001b[0m \u001b[0mi\u001b[0m\u001b[0;34m,\u001b[0m \u001b[0mv\u001b[0m \u001b[0;32min\u001b[0m \u001b[0menumerate\u001b[0m\u001b[0;34m(\u001b[0m\u001b[0mseries_gen\u001b[0m\u001b[0;34m)\u001b[0m\u001b[0;34m:\u001b[0m\u001b[0;34m\u001b[0m\u001b[0;34m\u001b[0m\u001b[0m\n\u001b[0;32m--> 321\u001b[0;31m                     \u001b[0mresults\u001b[0m\u001b[0;34m[\u001b[0m\u001b[0mi\u001b[0m\u001b[0;34m]\u001b[0m \u001b[0;34m=\u001b[0m \u001b[0mself\u001b[0m\u001b[0;34m.\u001b[0m\u001b[0mf\u001b[0m\u001b[0;34m(\u001b[0m\u001b[0mv\u001b[0m\u001b[0;34m)\u001b[0m\u001b[0;34m\u001b[0m\u001b[0;34m\u001b[0m\u001b[0m\n\u001b[0m\u001b[1;32m    322\u001b[0m                     \u001b[0mkeys\u001b[0m\u001b[0;34m.\u001b[0m\u001b[0mappend\u001b[0m\u001b[0;34m(\u001b[0m\u001b[0mv\u001b[0m\u001b[0;34m.\u001b[0m\u001b[0mname\u001b[0m\u001b[0;34m)\u001b[0m\u001b[0;34m\u001b[0m\u001b[0;34m\u001b[0m\u001b[0m\n\u001b[1;32m    323\u001b[0m             \u001b[0;32mexcept\u001b[0m \u001b[0mException\u001b[0m \u001b[0;32mas\u001b[0m \u001b[0me\u001b[0m\u001b[0;34m:\u001b[0m\u001b[0;34m\u001b[0m\u001b[0;34m\u001b[0m\u001b[0m\n",
      "\u001b[0;32m<ipython-input-29-51347577084f>\u001b[0m in \u001b[0;36m<lambda>\u001b[0;34m(t)\u001b[0m\n\u001b[1;32m     27\u001b[0m         \u001b[0;31m# number of cards since card_c was last seen\u001b[0m\u001b[0;34m\u001b[0m\u001b[0;34m\u001b[0m\u001b[0;34m\u001b[0m\u001b[0m\n\u001b[1;32m     28\u001b[0m         temporal_dist['n_imgs_c'] = self.scalar.apply(lambda t: self.get_t_dist_disc(t.card_c, t.trial_index,\n\u001b[0;32m---> 29\u001b[0;31m                                                                                     t.block_index), axis=1)            \n\u001b[0m\u001b[1;32m     30\u001b[0m         \u001b[0;31m# number of cards since card_b was last seen\u001b[0m\u001b[0;34m\u001b[0m\u001b[0;34m\u001b[0m\u001b[0;34m\u001b[0m\u001b[0m\n\u001b[1;32m     31\u001b[0m \u001b[0;31m#         temporal_dist['n_imgs_b'] = self.scalar.apply(lambda t: self.get_t_dist_disc(t.card_b, t.trial_index,\u001b[0m\u001b[0;34m\u001b[0m\u001b[0;34m\u001b[0m\u001b[0;34m\u001b[0m\u001b[0m\n",
      "\u001b[0;32m<ipython-input-29-51347577084f>\u001b[0m in \u001b[0;36mget_t_dist_disc\u001b[0;34m(self, card, trial_index, block_index)\u001b[0m\n\u001b[1;32m     47\u001b[0m                                  self.card_views.trial_index.eq(trial_index/2)] # REMEMBER TO REMOVE /2 WHEN YOU FIX TRIAL INDEX THING\n\u001b[1;32m     48\u001b[0m         \u001b[0;32mif\u001b[0m \u001b[0mlen\u001b[0m\u001b[0;34m(\u001b[0m\u001b[0mlast_t\u001b[0m\u001b[0;34m)\u001b[0m \u001b[0;34m>\u001b[0m \u001b[0;36m0\u001b[0m\u001b[0;34m:\u001b[0m\u001b[0;34m\u001b[0m\u001b[0;34m\u001b[0m\u001b[0m\n\u001b[0;32m---> 49\u001b[0;31m             \u001b[0;32mreturn\u001b[0m \u001b[0mlast_t\u001b[0m\u001b[0;34m.\u001b[0m\u001b[0miloc\u001b[0m\u001b[0;34m[\u001b[0m\u001b[0;34m-\u001b[0m\u001b[0;36m1\u001b[0m\u001b[0;34m]\u001b[0m\u001b[0;34m[\u001b[0m\u001b[0;34m'index'\u001b[0m\u001b[0;34m]\u001b[0m \u001b[0;34m-\u001b[0m \u001b[0mcurr_t\u001b[0m\u001b[0;34m.\u001b[0m\u001b[0miloc\u001b[0m\u001b[0;34m[\u001b[0m\u001b[0;34m-\u001b[0m\u001b[0;36m1\u001b[0m\u001b[0;34m]\u001b[0m\u001b[0;34m[\u001b[0m\u001b[0;34m'index'\u001b[0m\u001b[0;34m]\u001b[0m\u001b[0;34m\u001b[0m\u001b[0;34m\u001b[0m\u001b[0m\n\u001b[0m\u001b[1;32m     50\u001b[0m \u001b[0;34m\u001b[0m\u001b[0m\n\u001b[1;32m     51\u001b[0m         \u001b[0;32mreturn\u001b[0m \u001b[0;34m-\u001b[0m\u001b[0;36m1\u001b[0m\u001b[0;34m\u001b[0m\u001b[0;34m\u001b[0m\u001b[0m\n",
      "\u001b[0;32m~/PycharmProjects/concentration/env/lib/python3.7/site-packages/pandas/core/indexing.py\u001b[0m in \u001b[0;36m__getitem__\u001b[0;34m(self, key)\u001b[0m\n\u001b[1;32m   1422\u001b[0m \u001b[0;34m\u001b[0m\u001b[0m\n\u001b[1;32m   1423\u001b[0m             \u001b[0mmaybe_callable\u001b[0m \u001b[0;34m=\u001b[0m \u001b[0mcom\u001b[0m\u001b[0;34m.\u001b[0m\u001b[0mapply_if_callable\u001b[0m\u001b[0;34m(\u001b[0m\u001b[0mkey\u001b[0m\u001b[0;34m,\u001b[0m \u001b[0mself\u001b[0m\u001b[0;34m.\u001b[0m\u001b[0mobj\u001b[0m\u001b[0;34m)\u001b[0m\u001b[0;34m\u001b[0m\u001b[0;34m\u001b[0m\u001b[0m\n\u001b[0;32m-> 1424\u001b[0;31m             \u001b[0;32mreturn\u001b[0m \u001b[0mself\u001b[0m\u001b[0;34m.\u001b[0m\u001b[0m_getitem_axis\u001b[0m\u001b[0;34m(\u001b[0m\u001b[0mmaybe_callable\u001b[0m\u001b[0;34m,\u001b[0m \u001b[0maxis\u001b[0m\u001b[0;34m=\u001b[0m\u001b[0maxis\u001b[0m\u001b[0;34m)\u001b[0m\u001b[0;34m\u001b[0m\u001b[0;34m\u001b[0m\u001b[0m\n\u001b[0m\u001b[1;32m   1425\u001b[0m \u001b[0;34m\u001b[0m\u001b[0m\n\u001b[1;32m   1426\u001b[0m     \u001b[0;32mdef\u001b[0m \u001b[0m_is_scalar_access\u001b[0m\u001b[0;34m(\u001b[0m\u001b[0mself\u001b[0m\u001b[0;34m,\u001b[0m \u001b[0mkey\u001b[0m\u001b[0;34m:\u001b[0m \u001b[0mTuple\u001b[0m\u001b[0;34m)\u001b[0m\u001b[0;34m:\u001b[0m\u001b[0;34m\u001b[0m\u001b[0;34m\u001b[0m\u001b[0m\n",
      "\u001b[0;32m~/PycharmProjects/concentration/env/lib/python3.7/site-packages/pandas/core/indexing.py\u001b[0m in \u001b[0;36m_getitem_axis\u001b[0;34m(self, key, axis)\u001b[0m\n\u001b[1;32m   2155\u001b[0m \u001b[0;34m\u001b[0m\u001b[0m\n\u001b[1;32m   2156\u001b[0m             \u001b[0;31m# validate the location\u001b[0m\u001b[0;34m\u001b[0m\u001b[0;34m\u001b[0m\u001b[0;34m\u001b[0m\u001b[0m\n\u001b[0;32m-> 2157\u001b[0;31m             \u001b[0mself\u001b[0m\u001b[0;34m.\u001b[0m\u001b[0m_validate_integer\u001b[0m\u001b[0;34m(\u001b[0m\u001b[0mkey\u001b[0m\u001b[0;34m,\u001b[0m \u001b[0maxis\u001b[0m\u001b[0;34m)\u001b[0m\u001b[0;34m\u001b[0m\u001b[0;34m\u001b[0m\u001b[0m\n\u001b[0m\u001b[1;32m   2158\u001b[0m \u001b[0;34m\u001b[0m\u001b[0m\n\u001b[1;32m   2159\u001b[0m             \u001b[0;32mreturn\u001b[0m \u001b[0mself\u001b[0m\u001b[0;34m.\u001b[0m\u001b[0m_get_loc\u001b[0m\u001b[0;34m(\u001b[0m\u001b[0mkey\u001b[0m\u001b[0;34m,\u001b[0m \u001b[0maxis\u001b[0m\u001b[0;34m=\u001b[0m\u001b[0maxis\u001b[0m\u001b[0;34m)\u001b[0m\u001b[0;34m\u001b[0m\u001b[0;34m\u001b[0m\u001b[0m\n",
      "\u001b[0;32m~/PycharmProjects/concentration/env/lib/python3.7/site-packages/pandas/core/indexing.py\u001b[0m in \u001b[0;36m_validate_integer\u001b[0;34m(self, key, axis)\u001b[0m\n\u001b[1;32m   2086\u001b[0m         \u001b[0mlen_axis\u001b[0m \u001b[0;34m=\u001b[0m \u001b[0mlen\u001b[0m\u001b[0;34m(\u001b[0m\u001b[0mself\u001b[0m\u001b[0;34m.\u001b[0m\u001b[0mobj\u001b[0m\u001b[0;34m.\u001b[0m\u001b[0m_get_axis\u001b[0m\u001b[0;34m(\u001b[0m\u001b[0maxis\u001b[0m\u001b[0;34m)\u001b[0m\u001b[0;34m)\u001b[0m\u001b[0;34m\u001b[0m\u001b[0;34m\u001b[0m\u001b[0m\n\u001b[1;32m   2087\u001b[0m         \u001b[0;32mif\u001b[0m \u001b[0mkey\u001b[0m \u001b[0;34m>=\u001b[0m \u001b[0mlen_axis\u001b[0m \u001b[0;32mor\u001b[0m \u001b[0mkey\u001b[0m \u001b[0;34m<\u001b[0m \u001b[0;34m-\u001b[0m\u001b[0mlen_axis\u001b[0m\u001b[0;34m:\u001b[0m\u001b[0;34m\u001b[0m\u001b[0;34m\u001b[0m\u001b[0m\n\u001b[0;32m-> 2088\u001b[0;31m             \u001b[0;32mraise\u001b[0m \u001b[0mIndexError\u001b[0m\u001b[0;34m(\u001b[0m\u001b[0;34m\"single positional indexer is out-of-bounds\"\u001b[0m\u001b[0;34m)\u001b[0m\u001b[0;34m\u001b[0m\u001b[0;34m\u001b[0m\u001b[0m\n\u001b[0m\u001b[1;32m   2089\u001b[0m \u001b[0;34m\u001b[0m\u001b[0m\n\u001b[1;32m   2090\u001b[0m     \u001b[0;32mdef\u001b[0m \u001b[0m_getitem_tuple\u001b[0m\u001b[0;34m(\u001b[0m\u001b[0mself\u001b[0m\u001b[0;34m,\u001b[0m \u001b[0mtup\u001b[0m\u001b[0;34m)\u001b[0m\u001b[0;34m:\u001b[0m\u001b[0;34m\u001b[0m\u001b[0;34m\u001b[0m\u001b[0m\n",
      "\u001b[0;31mIndexError\u001b[0m: ('single positional indexer is out-of-bounds', 'occurred at index 14')"
     ]
    }
   ],
   "source": [
    "a = Analysis(unpack)"
   ]
  },
  {
   "cell_type": "code",
   "execution_count": null,
   "metadata": {
    "pycharm": {
     "is_executing": false
    }
   },
   "outputs": [],
   "source": [
    "def prettify(ax):\n",
    "    ax.spines['top'].set_visible(False)\n",
    "    ax.spines['right'].set_visible(False)\n",
    "    ax.title.set_style('italic')\n",
    "    ax.title.set_size(15)"
   ]
  },
  {
   "cell_type": "code",
   "execution_count": null,
   "metadata": {},
   "outputs": [],
   "source": []
  }
 ],
 "metadata": {
  "kernelspec": {
   "display_name": "concentration",
   "language": "python",
   "name": "concentration"
  },
  "language_info": {
   "codemirror_mode": {
    "name": "ipython",
    "version": 3
   },
   "file_extension": ".py",
   "mimetype": "text/x-python",
   "name": "python",
   "nbconvert_exporter": "python",
   "pygments_lexer": "ipython3",
   "version": "3.7.4"
  },
  "pycharm": {
   "stem_cell": {
    "cell_type": "raw",
    "metadata": {
     "collapsed": false
    },
    "source": []
   }
  }
 },
 "nbformat": 4,
 "nbformat_minor": 2
}
